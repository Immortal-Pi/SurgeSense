{
 "cells": [
  {
   "cell_type": "markdown",
   "metadata": {},
   "source": [
    "# testing the best model"
   ]
  },
  {
   "cell_type": "code",
   "execution_count": 1,
   "metadata": {},
   "outputs": [],
   "source": [
    "import os \n",
    "import pandas as pd \n",
    "from sklearn.model_selection import train_test_split\n",
    "from sklearn.metrics import accuracy_score, mean_absolute_error,r2_score,mean_squared_error\n",
    "from sklearn.ensemble import RandomForestRegressor, GradientBoostingRegressor\n",
    "from xgboost import XGBRegressor\n",
    "from urllib.parse import urlparse\n",
    "import mlflow \n",
    "import mlflow.sklearn\n",
    "import numpy as np\n",
    "from SurgeSense.constants import * \n",
    "from SurgeSense.utils.common import read_yaml, create_directories"
   ]
  },
  {
   "cell_type": "code",
   "execution_count": 2,
   "metadata": {},
   "outputs": [
    {
     "data": {
      "text/plain": [
       "'d:\\\\pythonProjects\\\\SurgeSense\\\\research'"
      ]
     },
     "execution_count": 2,
     "metadata": {},
     "output_type": "execute_result"
    }
   ],
   "source": [
    "%pwd "
   ]
  },
  {
   "cell_type": "code",
   "execution_count": 3,
   "metadata": {},
   "outputs": [
    {
     "data": {
      "text/plain": [
       "'d:\\\\pythonProjects\\\\SurgeSense'"
      ]
     },
     "execution_count": 3,
     "metadata": {},
     "output_type": "execute_result"
    }
   ],
   "source": [
    "import os \n",
    "os.chdir('../')\n",
    "%pwd"
   ]
  },
  {
   "cell_type": "code",
   "execution_count": 4,
   "metadata": {},
   "outputs": [],
   "source": [
    "from dataclasses import dataclass\n",
    "\n",
    "@dataclass(frozen=True)\n",
    "class HyperOptParamsXGBoost:\n",
    "    root_dir: Path\n",
    "    train_data_path: Path \n",
    "    test_data_path: Path\n",
    "    model_name: str\n",
    "    n_estimators: list \n",
    "    max_depth: list \n",
    "    learning_rate: str \n",
    "    target_column: str"
   ]
  },
  {
   "cell_type": "code",
   "execution_count": 5,
   "metadata": {},
   "outputs": [],
   "source": [
    "# configuration \n",
    "class HyperOptParamsConfigManagerXGBoost:\n",
    "    def __init__(\n",
    "            self,\n",
    "            config_file_path=CONFIG_FILE_PATH,\n",
    "            params_file_path=PARAMS_FILE_PATH,\n",
    "            schema_file_path=SCHEMA_FILE_PATH,\n",
    "            ):\n",
    "        self.config=read_yaml(config_file_path)\n",
    "        self.params=read_yaml(params_file_path)\n",
    "        self.schema=read_yaml(schema_file_path)\n",
    "    \n",
    "    def get_hyperopt_config(self)->HyperOptParamsXGBoost:\n",
    "        config=self.config.model_trainer \n",
    "        params=self.params.Hyperopt_params.XGBoostRegressor\n",
    "        schema=self.schema.TARGET_COLUMN\n",
    "\n",
    "        hypoeropt_config=HyperOptParamsXGBoost(\n",
    "            root_dir=config.root_dir,\n",
    "            train_data_path=config.train_data_path,\n",
    "            test_data_path=config.test_data_path,\n",
    "            model_name=config.model_name,\n",
    "            n_estimators=params.n_estimators,\n",
    "            max_depth=params.max_depth,\n",
    "            learning_rate=params.learning_rate,\n",
    "            target_column=schema.name\n",
    "        )\n",
    "        return hypoeropt_config"
   ]
  },
  {
   "cell_type": "code",
   "execution_count": 6,
   "metadata": {},
   "outputs": [],
   "source": [
    "# components\n",
    "from hyperopt import STATUS_OK, hp, fmin, tpe, Trials\n",
    "import dagshub\n",
    "from functools import partial \n",
    "import mlflow\n",
    "import pandas as pd \n",
    "import os \n",
    "from SurgeSense import logger\n",
    "from sklearn.ensemble import RandomForestRegressor, GradientBoostingRegressor\n",
    "from xgboost import XGBRegressor\n",
    "import joblib\n",
    "from sklearn.impute import SimpleImputer\n",
    "from sklearn.pipeline import Pipeline\n",
    "from sklearn.preprocessing import StandardScaler, OneHotEncoder\n",
    "from sklearn.compose import ColumnTransformer\n",
    "import pandas as pd \n",
    "import numpy as np\n",
    "\n",
    "class hyperOptTraining:\n",
    "    def __init__(self,config=HyperOptParamsXGBoost):\n",
    "          self.config=config\n",
    "\n",
    "    def create_pipeline(self):\n",
    "        \n",
    "        categorical_columns=['cab_type','destination','source','name']\n",
    "        numerical_columns=['distance','surge_multiplier','temp','clouds','pressure','rain','humidity','wind','day','hour','month']\n",
    "\n",
    "        numerical_preprocessor=Pipeline(\n",
    "            steps=[\n",
    "                ('imputation_menu',SimpleImputer(missing_values=np.nan,strategy='median')),\n",
    "                ('scalar',StandardScaler())\n",
    "            ]\n",
    "        )\n",
    "\n",
    "        categorical_preprocessor=Pipeline(\n",
    "            steps=[\n",
    "                ('imputation_constant',SimpleImputer(strategy='most_frequent')),\n",
    "                ('encode',OneHotEncoder(handle_unknown='ignore'))\n",
    "            ]\n",
    "        )\n",
    "\n",
    "        preprocessor=ColumnTransformer(\n",
    "            transformers=[\n",
    "                ('categorical_columns',categorical_preprocessor,categorical_columns),\n",
    "                ('numerical_columns',numerical_preprocessor,numerical_columns)\n",
    "            ]\n",
    "        )\n",
    "\n",
    "        \n",
    "        pipe=Pipeline(\n",
    "            steps=[\n",
    "                ('preprocessor',preprocessor),\n",
    "                ('model', XGBRegressor())\n",
    "            ]\n",
    "        )\n",
    "        \n",
    "\n",
    "        return pipe\n",
    "    \n",
    "    def evaluation_metrics(self,actual,pred):\n",
    "        rmse=np.sqrt(mean_squared_error(actual,pred))\n",
    "        mae=mean_absolute_error(actual,pred)\n",
    "        r2=r2_score(actual,pred)\n",
    "        return rmse, mae, r2 \n",
    "    \n",
    "    def objective(self,params,xtrain,ytrain,xtest,ytest):\n",
    "        with mlflow.start_run():\n",
    "            mlflow.set_tag('model','XGBoostRegressor')\n",
    "\n",
    "            pipe=self.create_pipeline()\n",
    "            model=pipe.set_params(**params)\n",
    "            model.fit(xtrain,ytrain)\n",
    "            ypred=model.predict(xtest)\n",
    "            mlflow.log_params(model.get_params())\n",
    "            rmse,mae,r2=self.evaluation_metrics(ytest,ypred)\n",
    "            mlflow.log_metrics({'rmse':rmse,'mse': mae, 'r2':r2})\n",
    "        return {'loss':rmse, 'status':STATUS_OK, 'model':model}\n",
    "\n",
    "    def train(self):\n",
    "        train_data=pd.read_csv(self.config.train_data_path)\n",
    "        test_data=pd.read_csv(self.config.test_data_path)\n",
    "\n",
    "        xtrain=train_data.drop([self.config.target_column],axis=1)\n",
    "        xtest=test_data.drop([self.config.target_column],axis=1)\n",
    "        ytrain=train_data[[self.config.target_column]]\n",
    "        ytest=test_data[[self.config.target_column]]\n",
    "\n",
    "        search_space={\n",
    "            'model__n_estimators':hp.uniformint('n_estimators',self.config.n_estimators[0],self.config.n_estimators[1]),\n",
    "            'model__max_depth':hp.uniformint('max_depth',self.config.max_depth[0],self.config.max_depth[1]),\n",
    "            'model__learning_rate':hp.uniform('learning_rate',self.config.learning_rate[0],self.config.learning_rate[1])\n",
    "        }\n",
    "        dagshub.init(repo_owner='Immortal-Pi',repo_name='SurgeSense',mlflow=True)\n",
    "        experiment_name='hyperopt_test_xgboostregressor_algorithm'\n",
    "        existing_experiment=mlflow.get_experiment_by_name(experiment_name)\n",
    "\n",
    "        if existing_experiment is None:\n",
    "                experiment_id = mlflow.create_experiment(name=experiment_name,artifact_location='hyperopt-test')\n",
    "        else:\n",
    "            experiment_id = existing_experiment.experiment_id\n",
    "        mlflow.set_experiment(experiment_id=experiment_id) \n",
    "\n",
    "        trials=Trials()\n",
    "        best_results=fmin(\n",
    "            fn=partial(\n",
    "                self.objective,\n",
    "                xtrain=xtrain[:1000],\n",
    "                ytrain=ytrain[:1000],\n",
    "                xtest=xtest[:1000],\n",
    "                ytest=ytest[:1000]\n",
    "            ),\n",
    "            space=search_space,\n",
    "            algo=tpe.suggest,\n",
    "            max_evals=10, # change to config\n",
    "            trials=trials\n",
    "        )\n",
    "        return best_results,trials\n",
    "\n",
    "    def register_best_model(self,best_results,trials):\n",
    "        best_index=np.argmin([trial['result']['loss'] for trial in trials.trials])\n",
    "        best_model=trials.trials[best_index]['result']['model']\n",
    "\n",
    "        with mlflow.start_run() as run:\n",
    "            mlflow.sklearn.log_model(best_model,artifact_path='model')\n",
    "            mlflow.log_params(trials.trials[best_index]['misc']['vals'])\n",
    "            model_uri=f'runs:/{run.info.run_id}/best_model'\n",
    "            mlflow.register_model(model_uri=model_uri,name='best_model')\n"
   ]
  },
  {
   "cell_type": "code",
   "execution_count": 7,
   "metadata": {},
   "outputs": [
    {
     "name": "stdout",
     "output_type": "stream",
     "text": [
      "[2025-03-24 12:03:16,532: INFO :common : yaml file: config\\config.yaml loaded successfully]\n",
      "[2025-03-24 12:03:16,536: INFO :common : yaml file: params.yaml loaded successfully]\n",
      "[2025-03-24 12:03:16,545: INFO :common : yaml file: schema.yaml loaded successfully]\n",
      "[2025-03-24 12:03:19,054: INFO :_client : HTTP Request: GET https://dagshub.com/api/v1/user \"HTTP/1.1 200 OK\"]\n"
     ]
    },
    {
     "data": {
      "text/html": [
       "<pre style=\"white-space:pre;overflow-x:auto;line-height:normal;font-family:Menlo,'DejaVu Sans Mono',consolas,'Courier New',monospace\">Accessing as Immortal-Pi\n",
       "</pre>\n"
      ],
      "text/plain": [
       "Accessing as Immortal-Pi\n"
      ]
     },
     "metadata": {},
     "output_type": "display_data"
    },
    {
     "name": "stdout",
     "output_type": "stream",
     "text": [
      "[2025-03-24 12:03:19,061: INFO :helpers : Accessing as Immortal-Pi]\n",
      "[2025-03-24 12:03:19,218: INFO :_client : HTTP Request: GET https://dagshub.com/api/v1/repos/Immortal-Pi/SurgeSense \"HTTP/1.1 200 OK\"]\n",
      "[2025-03-24 12:03:19,391: INFO :_client : HTTP Request: GET https://dagshub.com/api/v1/user \"HTTP/1.1 200 OK\"]\n"
     ]
    },
    {
     "data": {
      "text/html": [
       "<pre style=\"white-space:pre;overflow-x:auto;line-height:normal;font-family:Menlo,'DejaVu Sans Mono',consolas,'Courier New',monospace\">Initialized MLflow to track repo <span style=\"color: #008000; text-decoration-color: #008000\">\"Immortal-Pi/SurgeSense\"</span>\n",
       "</pre>\n"
      ],
      "text/plain": [
       "Initialized MLflow to track repo \u001b[32m\"Immortal-Pi/SurgeSense\"\u001b[0m\n"
      ]
     },
     "metadata": {},
     "output_type": "display_data"
    },
    {
     "name": "stdout",
     "output_type": "stream",
     "text": [
      "[2025-03-24 12:03:19,397: INFO :helpers : Initialized MLflow to track repo \"Immortal-Pi/SurgeSense\"]\n"
     ]
    },
    {
     "data": {
      "text/html": [
       "<pre style=\"white-space:pre;overflow-x:auto;line-height:normal;font-family:Menlo,'DejaVu Sans Mono',consolas,'Courier New',monospace\">Repository Immortal-Pi/SurgeSense initialized!\n",
       "</pre>\n"
      ],
      "text/plain": [
       "Repository Immortal-Pi/SurgeSense initialized!\n"
      ]
     },
     "metadata": {},
     "output_type": "display_data"
    },
    {
     "name": "stdout",
     "output_type": "stream",
     "text": [
      "[2025-03-24 12:03:19,399: INFO :helpers : Repository Immortal-Pi/SurgeSense initialized!]\n",
      "  0%|          | 0/10 [00:00<?, ?trial/s, best loss=?][2025-03-24 12:03:19,811: INFO :tpe : build_posterior_wrapper took 0.001009 seconds]\n",
      "[2025-03-24 12:03:19,812: INFO :tpe : TPE using 0 trials]\n",
      "🏃 View run grandiose-goose-220 at: https://dagshub.com/Immortal-Pi/SurgeSense.mlflow/#/experiments/2/runs/28323b746b7047b1b6c4e8caa9669671\n",
      "\n",
      "🧪 View experiment at: https://dagshub.com/Immortal-Pi/SurgeSense.mlflow/#/experiments/2\n",
      "\n",
      " 10%|█         | 1/10 [00:01<00:15,  1.77s/trial, best loss: 3.310175529965831][2025-03-24 12:03:21,579: INFO :tpe : build_posterior_wrapper took 0.001998 seconds]\n",
      "[2025-03-24 12:03:21,579: INFO :tpe : TPE using 1/1 trials with best loss 3.310176]\n",
      "🏃 View run silent-jay-646 at: https://dagshub.com/Immortal-Pi/SurgeSense.mlflow/#/experiments/2/runs/afe50acf7bb64a9ab1c5b9ac5df81b59\n",
      "\n",
      "🧪 View experiment at: https://dagshub.com/Immortal-Pi/SurgeSense.mlflow/#/experiments/2\n",
      "\n",
      " 20%|██        | 2/10 [00:03<00:13,  1.68s/trial, best loss: 2.9214137728173384][2025-03-24 12:03:23,207: INFO :tpe : build_posterior_wrapper took 0.000997 seconds]\n",
      "[2025-03-24 12:03:23,209: INFO :tpe : TPE using 2/2 trials with best loss 2.921414]\n",
      "🏃 View run blushing-wren-729 at: https://dagshub.com/Immortal-Pi/SurgeSense.mlflow/#/experiments/2/runs/ba3625836e51435695b23c69d257c0c2\n",
      "\n",
      "🧪 View experiment at: https://dagshub.com/Immortal-Pi/SurgeSense.mlflow/#/experiments/2\n",
      "\n",
      " 30%|███       | 3/10 [00:09<00:25,  3.63s/trial, best loss: 2.876850030506015] [2025-03-24 12:03:29,146: INFO :tpe : build_posterior_wrapper took 0.001000 seconds]\n",
      "[2025-03-24 12:03:29,147: INFO :tpe : TPE using 3/3 trials with best loss 2.876850]\n",
      "🏃 View run inquisitive-boar-945 at: https://dagshub.com/Immortal-Pi/SurgeSense.mlflow/#/experiments/2/runs/f0bc60e2ed7f4aacba9b73eac86293ee\n",
      "\n",
      "🧪 View experiment at: https://dagshub.com/Immortal-Pi/SurgeSense.mlflow/#/experiments/2\n",
      "\n",
      " 40%|████      | 4/10 [00:23<00:46,  7.72s/trial, best loss: 2.820546317512946][2025-03-24 12:03:43,142: INFO :tpe : build_posterior_wrapper took 0.000000 seconds]\n",
      "[2025-03-24 12:03:43,143: INFO :tpe : TPE using 4/4 trials with best loss 2.820546]\n",
      "🏃 View run casual-crab-47 at: https://dagshub.com/Immortal-Pi/SurgeSense.mlflow/#/experiments/2/runs/8a25cdf003234492a2051e3d899385f2\n",
      "\n",
      "🧪 View experiment at: https://dagshub.com/Immortal-Pi/SurgeSense.mlflow/#/experiments/2\n",
      "\n",
      " 50%|█████     | 5/10 [00:40<00:55, 11.07s/trial, best loss: 2.820546317512946][2025-03-24 12:04:00,140: INFO :tpe : build_posterior_wrapper took 0.000000 seconds]\n",
      "[2025-03-24 12:04:00,142: INFO :tpe : TPE using 5/5 trials with best loss 2.820546]\n",
      "🏃 View run chill-mole-324 at: https://dagshub.com/Immortal-Pi/SurgeSense.mlflow/#/experiments/2/runs/863cf04308bd4e2dba98894a81b04c90\n",
      "\n",
      "🧪 View experiment at: https://dagshub.com/Immortal-Pi/SurgeSense.mlflow/#/experiments/2\n",
      "\n",
      " 60%|██████    | 6/10 [00:59<00:55, 13.77s/trial, best loss: 2.820546317512946][2025-03-24 12:04:19,150: INFO :tpe : build_posterior_wrapper took 0.001000 seconds]\n",
      "[2025-03-24 12:04:19,152: INFO :tpe : TPE using 6/6 trials with best loss 2.820546]\n",
      "🏃 View run resilient-swan-890 at: https://dagshub.com/Immortal-Pi/SurgeSense.mlflow/#/experiments/2/runs/5a265486582842cb9f19fa32eb7ed1dd\n",
      "\n",
      "🧪 View experiment at: https://dagshub.com/Immortal-Pi/SurgeSense.mlflow/#/experiments/2\n",
      "\n",
      " 70%|███████   | 7/10 [01:17<00:45, 15.15s/trial, best loss: 2.820546317512946][2025-03-24 12:04:37,148: INFO :tpe : build_posterior_wrapper took 0.001000 seconds]\n",
      "[2025-03-24 12:04:37,151: INFO :tpe : TPE using 7/7 trials with best loss 2.820546]\n",
      "🏃 View run calm-turtle-209 at: https://dagshub.com/Immortal-Pi/SurgeSense.mlflow/#/experiments/2/runs/53b01ce4c5cf4f75bac8bfa60cdb654a\n",
      "\n",
      "🧪 View experiment at: https://dagshub.com/Immortal-Pi/SurgeSense.mlflow/#/experiments/2\n",
      "\n",
      " 80%|████████  | 8/10 [01:33<00:30, 15.43s/trial, best loss: 2.820546317512946][2025-03-24 12:04:53,173: INFO :tpe : build_posterior_wrapper took 0.001997 seconds]\n",
      "[2025-03-24 12:04:53,175: INFO :tpe : TPE using 8/8 trials with best loss 2.820546]\n",
      "🏃 View run painted-whale-655 at: https://dagshub.com/Immortal-Pi/SurgeSense.mlflow/#/experiments/2/runs/7f5885bc855f42d0858fa6beabceaf7b\n",
      "\n",
      "🧪 View experiment at: https://dagshub.com/Immortal-Pi/SurgeSense.mlflow/#/experiments/2\n",
      "\n",
      " 90%|█████████ | 9/10 [01:51<00:16, 16.24s/trial, best loss: 2.820546317512946][2025-03-24 12:05:11,212: INFO :tpe : build_posterior_wrapper took 0.001000 seconds]\n",
      "[2025-03-24 12:05:11,214: INFO :tpe : TPE using 9/9 trials with best loss 2.820546]\n",
      "🏃 View run adaptable-jay-83 at: https://dagshub.com/Immortal-Pi/SurgeSense.mlflow/#/experiments/2/runs/2cc7857d2d49417b9e74eaebd008c883\n",
      "\n",
      "🧪 View experiment at: https://dagshub.com/Immortal-Pi/SurgeSense.mlflow/#/experiments/2\n",
      "\n",
      "100%|██████████| 10/10 [02:09<00:00, 12.94s/trial, best loss: 2.820546317512946]\n"
     ]
    },
    {
     "name": "stderr",
     "output_type": "stream",
     "text": [
      "2025/03/24 12:05:37 WARNING mlflow.models.model: Model logged without a signature and input example. Please set `input_example` parameter when logging the model to auto infer the model signature.\n",
      "Registered model 'best_model' already exists. Creating a new version of this model...\n",
      "2025/03/24 12:05:55 INFO mlflow.store.model_registry.abstract_store: Waiting up to 300 seconds for model version to finish creation. Model name: best_model, version 8\n",
      "Created version '8' of model 'best_model'.\n"
     ]
    },
    {
     "name": "stdout",
     "output_type": "stream",
     "text": [
      "🏃 View run likeable-shoat-199 at: https://dagshub.com/Immortal-Pi/SurgeSense.mlflow/#/experiments/2/runs/7891c68275b94edfb9512de635cba2ea\n",
      "🧪 View experiment at: https://dagshub.com/Immortal-Pi/SurgeSense.mlflow/#/experiments/2\n"
     ]
    }
   ],
   "source": [
    "# pipeline \n",
    "try: \n",
    "    config=HyperOptParamsConfigManagerXGBoost()\n",
    "    hyperopt_config=config.get_hyperopt_config()\n",
    "    hyperopt_config_training=hyperOptTraining(config=hyperopt_config)\n",
    "    best_results,trails=hyperopt_config_training.train()\n",
    "    hyperopt_config_training.register_best_model(best_results,trails)\n",
    "except Exception as e:\n",
    "    raise e "
   ]
  },
  {
   "cell_type": "code",
   "execution_count": null,
   "metadata": {},
   "outputs": [],
   "source": []
  }
 ],
 "metadata": {
  "kernelspec": {
   "display_name": "Python 3",
   "language": "python",
   "name": "python3"
  },
  "language_info": {
   "codemirror_mode": {
    "name": "ipython",
    "version": 3
   },
   "file_extension": ".py",
   "mimetype": "text/x-python",
   "name": "python",
   "nbconvert_exporter": "python",
   "pygments_lexer": "ipython3",
   "version": "3.10.0"
  }
 },
 "nbformat": 4,
 "nbformat_minor": 2
}

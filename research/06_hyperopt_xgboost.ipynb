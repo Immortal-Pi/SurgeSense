{
 "cells": [
  {
   "cell_type": "markdown",
   "metadata": {},
   "source": [
    "# testing the best model"
   ]
  },
  {
   "cell_type": "code",
   "execution_count": 2,
   "metadata": {},
   "outputs": [],
   "source": [
    "import os \n",
    "import pandas as pd \n",
    "from sklearn.model_selection import train_test_split\n",
    "from sklearn.metrics import accuracy_score, mean_absolute_error,r2_score,mean_squared_error\n",
    "from sklearn.ensemble import RandomForestRegressor, GradientBoostingRegressor\n",
    "from xgboost import XGBRegressor\n",
    "from urllib.parse import urlparse\n",
    "import mlflow \n",
    "import mlflow.sklearn\n",
    "import numpy as np\n",
    "from SurgeSense.constants import * \n",
    "from SurgeSense.utils.common import read_yaml, create_directories"
   ]
  },
  {
   "cell_type": "code",
   "execution_count": 3,
   "metadata": {},
   "outputs": [
    {
     "data": {
      "text/plain": [
       "'d:\\\\pythonProjects\\\\SurgeSense\\\\research'"
      ]
     },
     "execution_count": 3,
     "metadata": {},
     "output_type": "execute_result"
    }
   ],
   "source": [
    "%pwd "
   ]
  },
  {
   "cell_type": "code",
   "execution_count": 4,
   "metadata": {},
   "outputs": [
    {
     "data": {
      "text/plain": [
       "'d:\\\\pythonProjects\\\\SurgeSense'"
      ]
     },
     "execution_count": 4,
     "metadata": {},
     "output_type": "execute_result"
    }
   ],
   "source": [
    "import os \n",
    "os.chdir('../')\n",
    "%pwd"
   ]
  },
  {
   "cell_type": "code",
   "execution_count": 5,
   "metadata": {},
   "outputs": [],
   "source": [
    "def evaluation_metrics(actual,pred):\n",
    "    rmse=np.sqrt(mean_squared_error(actual,pred))\n",
    "    mae=mean_absolute_error(actual,pred)\n",
    "    r2=r2_score(actual,pred)\n",
    "    return rmse, mae, r2 "
   ]
  },
  {
   "cell_type": "code",
   "execution_count": 6,
   "metadata": {},
   "outputs": [
    {
     "name": "stdout",
     "output_type": "stream",
     "text": [
      "[2025-03-23 18:15:34,520: INFO :common : yaml file: config\\config.yaml loaded successfully]\n",
      "[2025-03-23 18:15:34,524: INFO :common : yaml file: params.yaml loaded successfully]\n"
     ]
    }
   ],
   "source": [
    "config=read_yaml(CONFIG_FILE_PATH)\n",
    "params=read_yaml(PARAMS_FILE_PATH)\n"
   ]
  },
  {
   "cell_type": "code",
   "execution_count": 23,
   "metadata": {},
   "outputs": [],
   "source": [
    "from dataclasses import dataclass\n",
    "\n",
    "@dataclass(frozen=True)\n",
    "class HyperOptParams:\n",
    "    root_dir: Path\n",
    "    train_data_path: Path \n",
    "    test_data_path: Path\n",
    "    model_name: str\n",
    "    n_estimators: list \n",
    "    max_depth: list \n",
    "    learning_rate: str \n",
    "    target_column: str"
   ]
  },
  {
   "cell_type": "code",
   "execution_count": 24,
   "metadata": {},
   "outputs": [],
   "source": [
    "# configuration \n",
    "class HyperOptParamsConfigManager:\n",
    "    def __init__(\n",
    "            self,\n",
    "            config_file_path=CONFIG_FILE_PATH,\n",
    "            params_file_path=PARAMS_FILE_PATH,\n",
    "            schema_file_path=SCHEMA_FILE_PATH,\n",
    "            ):\n",
    "        self.config=read_yaml(config_file_path)\n",
    "        self.params=read_yaml(params_file_path)\n",
    "        self.schema=read_yaml(schema_file_path)\n",
    "    \n",
    "    def get_hyperopt_config(self)->HyperOptParams:\n",
    "        config=self.config.model_trainer \n",
    "        params=self.params.Hyperopt_params.XGBoostRegressor\n",
    "        schema=self.schema.TARGET_COLUMN\n",
    "\n",
    "        hypoeropt_config=HyperOptParams(\n",
    "            root_dir=config.root_dir,\n",
    "            train_data_path=config.train_data_path,\n",
    "            test_data_path=config.test_data_path,\n",
    "            model_name=config.model_name,\n",
    "            n_estimators=params.n_estimators,\n",
    "            max_depth=params.max_depth,\n",
    "            learning_rate=params.learning_rate,\n",
    "            target_column=schema.name\n",
    "        )\n",
    "        return hypoeropt_config"
   ]
  },
  {
   "cell_type": "code",
   "execution_count": 54,
   "metadata": {},
   "outputs": [],
   "source": [
    "# components\n",
    "from hyperopt import STATUS_OK, hp, fmin, tpe, Trials\n",
    "import dagshub\n",
    "from functools import partial \n",
    "import mlflow\n",
    "import pandas as pd \n",
    "import os \n",
    "from SurgeSense import logger\n",
    "from sklearn.ensemble import RandomForestRegressor, GradientBoostingRegressor\n",
    "from xgboost import XGBRegressor\n",
    "import joblib\n",
    "from sklearn.impute import SimpleImputer\n",
    "from sklearn.pipeline import Pipeline\n",
    "from sklearn.preprocessing import StandardScaler, OneHotEncoder\n",
    "from sklearn.compose import ColumnTransformer\n",
    "import pandas as pd \n",
    "import numpy as np\n",
    "\n",
    "class hyperOptTraining:\n",
    "    def __init__(self,config=HyperOptParams):\n",
    "          self.config=config\n",
    "\n",
    "    def create_pipeline(self):\n",
    "        \n",
    "        categorical_columns=['cab_type','destination','source','name']\n",
    "        numerical_columns=['distance','surge_multiplier','temp','clouds','pressure','rain','humidity','wind','day','hour','month']\n",
    "\n",
    "        numerical_preprocessor=Pipeline(\n",
    "            steps=[\n",
    "                ('imputation_menu',SimpleImputer(missing_values=np.nan,strategy='median')),\n",
    "                ('scalar',StandardScaler())\n",
    "            ]\n",
    "        )\n",
    "\n",
    "        categorical_preprocessor=Pipeline(\n",
    "            steps=[\n",
    "                ('imputation_constant',SimpleImputer(strategy='most_frequent')),\n",
    "                ('encode',OneHotEncoder(handle_unknown='ignore'))\n",
    "            ]\n",
    "        )\n",
    "\n",
    "        preprocessor=ColumnTransformer(\n",
    "            transformers=[\n",
    "                ('categorical_columns',categorical_preprocessor,categorical_columns),\n",
    "                ('numerical_columns',numerical_preprocessor,numerical_columns)\n",
    "            ]\n",
    "        )\n",
    "\n",
    "        \n",
    "        pipe=Pipeline(\n",
    "            steps=[\n",
    "                ('preprocessor',preprocessor),\n",
    "                ('model', XGBRegressor())\n",
    "            ]\n",
    "        )\n",
    "        \n",
    "\n",
    "        return pipe\n",
    "\n",
    "    def objective(self,params,xtrain,ytrain,xtest,ytest):\n",
    "        with mlflow.start_run():\n",
    "            mlflow.set_tag('model','XGBoostRegressor')\n",
    "\n",
    "            pipe=self.create_pipeline()\n",
    "            model=pipe.set_params(**params)\n",
    "            model.fit(xtrain,ytrain)\n",
    "            ypred=model.predict(xtest)\n",
    "            mlflow.log_params(model.get_params())\n",
    "            rmse,mae,r2=evaluation_metrics(ytest,ypred)\n",
    "            mlflow.log_metrics({'rmse':rmse,'mse': mae, 'r2':r2})\n",
    "        return {'loss':rmse, 'status':STATUS_OK}\n",
    "\n",
    "    def train(self):\n",
    "        train_data=pd.read_csv(self.config.train_data_path)\n",
    "        test_data=pd.read_csv(self.config.test_data_path)\n",
    "\n",
    "        xtrain=train_data.drop([self.config.target_column],axis=1)\n",
    "        xtest=test_data.drop([self.config.target_column],axis=1)\n",
    "        ytrain=train_data[[self.config.target_column]]\n",
    "        ytest=test_data[[self.config.target_column]]\n",
    "\n",
    "        search_space={\n",
    "            'model__n_estimators':hp.uniformint('n_estimators',self.config.n_estimators[0],self.config.n_estimators[1]),\n",
    "            'model__max_depth':hp.uniformint('max_depth',self.config.max_depth[0],self.config.max_depth[1]),\n",
    "            'model__learning_rate':hp.uniform('learning_rate',self.config.learning_rate[0],self.config.learning_rate[1])\n",
    "        }\n",
    "        dagshub.init(repo_owner='Immortal-Pi',repo_name='SurgeSense',mlflow=True)\n",
    "        experiment_name='hyperopt_test_xgboostregressor_algorithm'\n",
    "        existing_experiment=mlflow.get_experiment_by_name(experiment_name)\n",
    "\n",
    "        if existing_experiment is None:\n",
    "                experiment_id = mlflow.create_experiment(name=experiment_name,artifact_location='hyperopt-test')\n",
    "        else:\n",
    "            experiment_id = existing_experiment.experiment_id\n",
    "        mlflow.set_experiment(experiment_id=experiment_id) \n",
    "\n",
    "        trials=Trials()\n",
    "        best_results=fmin(\n",
    "            fn=partial(\n",
    "                self.objective,\n",
    "                xtrain=xtrain,\n",
    "                ytrain=ytrain,\n",
    "                xtest=xtest,\n",
    "                ytest=ytest\n",
    "            ),\n",
    "            space=search_space,\n",
    "            algo=tpe.suggest,\n",
    "            max_evals=10, # change to config\n",
    "            trials=trials\n",
    "        )\n",
    "        return best_results,trials\n",
    "\n",
    "    def register_best_model(self,best_results,trials):\n",
    "        best_index=np.argmin([trial['result']['loss'] for trial in trials.trials])\n",
    "        best_model=trials.trials[best_index]['result']['loss']\n",
    "\n",
    "        with mlflow.start_run() as run:\n",
    "            mlflow.sklearn.log_model(sk_model=best_model,artifact_path='best_model')\n",
    "            mlflow.log_params(trials.trials[best_index]['mics']['vals'])\n",
    "            model_uri=f'runs:{run.info.run_id}/best_model'\n",
    "            mlflow.register_model(model_uri=model_uri,name='best_model')\n",
    "\n",
    "\n"
   ]
  },
  {
   "cell_type": "code",
   "execution_count": null,
   "metadata": {},
   "outputs": [
    {
     "name": "stdout",
     "output_type": "stream",
     "text": [
      "[2025-03-23 20:27:15,379: INFO :common : yaml file: config\\config.yaml loaded successfully]\n",
      "[2025-03-23 20:27:15,389: INFO :common : yaml file: params.yaml loaded successfully]\n",
      "[2025-03-23 20:27:15,394: INFO :common : yaml file: schema.yaml loaded successfully]\n",
      "[2025-03-23 20:27:18,307: INFO :_client : HTTP Request: GET https://dagshub.com/api/v1/repos/Immortal-Pi/SurgeSense \"HTTP/1.1 200 OK\"]\n"
     ]
    },
    {
     "data": {
      "text/html": [
       "<pre style=\"white-space:pre;overflow-x:auto;line-height:normal;font-family:Menlo,'DejaVu Sans Mono',consolas,'Courier New',monospace\">Initialized MLflow to track repo <span style=\"color: #008000; text-decoration-color: #008000\">\"Immortal-Pi/SurgeSense\"</span>\n",
       "</pre>\n"
      ],
      "text/plain": [
       "Initialized MLflow to track repo \u001b[32m\"Immortal-Pi/SurgeSense\"\u001b[0m\n"
      ]
     },
     "metadata": {},
     "output_type": "display_data"
    },
    {
     "name": "stdout",
     "output_type": "stream",
     "text": [
      "[2025-03-23 20:27:18,316: INFO :helpers : Initialized MLflow to track repo \"Immortal-Pi/SurgeSense\"]\n"
     ]
    },
    {
     "data": {
      "text/html": [
       "<pre style=\"white-space:pre;overflow-x:auto;line-height:normal;font-family:Menlo,'DejaVu Sans Mono',consolas,'Courier New',monospace\">Repository Immortal-Pi/SurgeSense initialized!\n",
       "</pre>\n"
      ],
      "text/plain": [
       "Repository Immortal-Pi/SurgeSense initialized!\n"
      ]
     },
     "metadata": {},
     "output_type": "display_data"
    },
    {
     "name": "stdout",
     "output_type": "stream",
     "text": [
      "[2025-03-23 20:27:18,319: INFO :helpers : Repository Immortal-Pi/SurgeSense initialized!]\n",
      "  0%|          | 0/10 [00:00<?, ?trial/s, best loss=?][2025-03-23 20:27:19,742: INFO :tpe : build_posterior_wrapper took 0.001066 seconds]\n",
      "[2025-03-23 20:27:19,742: INFO :tpe : TPE using 0 trials]\n",
      "🏃 View run peaceful-wolf-199 at: https://dagshub.com/Immortal-Pi/SurgeSense.mlflow/#/experiments/2/runs/6e5d2f90e46a481b834da078b4e8f364\n",
      "\n",
      "🧪 View experiment at: https://dagshub.com/Immortal-Pi/SurgeSense.mlflow/#/experiments/2\n",
      "\n",
      " 10%|█         | 1/10 [03:52<34:49, 232.19s/trial, best loss: 1.7290808491687242][2025-03-23 20:31:11,934: INFO :tpe : build_posterior_wrapper took 0.001001 seconds]\n",
      "[2025-03-23 20:31:11,935: INFO :tpe : TPE using 1/1 trials with best loss 1.729081]\n",
      "🏃 View run casual-mole-267 at: https://dagshub.com/Immortal-Pi/SurgeSense.mlflow/#/experiments/2/runs/c552d523cffe4ef6b245648bee8dd5eb\n",
      "\n",
      "🧪 View experiment at: https://dagshub.com/Immortal-Pi/SurgeSense.mlflow/#/experiments/2\n",
      "\n",
      " 20%|██        | 2/10 [07:52<31:37, 237.21s/trial, best loss: 1.7290808491687242][2025-03-23 20:35:12,656: INFO :tpe : build_posterior_wrapper took 0.001011 seconds]\n",
      "[2025-03-23 20:35:12,657: INFO :tpe : TPE using 2/2 trials with best loss 1.729081]\n",
      "🏃 View run bedecked-perch-292 at: https://dagshub.com/Immortal-Pi/SurgeSense.mlflow/#/experiments/2/runs/cca84e2ac3a7417eb5d4e359ea0d733e\n",
      "\n",
      "🧪 View experiment at: https://dagshub.com/Immortal-Pi/SurgeSense.mlflow/#/experiments/2\n",
      "\n",
      " 30%|███       | 3/10 [08:11<16:02, 137.50s/trial, best loss: 1.5230314838564143][2025-03-23 20:35:31,509: INFO :tpe : build_posterior_wrapper took 0.001067 seconds]\n",
      "[2025-03-23 20:35:31,511: INFO :tpe : TPE using 3/3 trials with best loss 1.523031]\n",
      "🏃 View run grandiose-lark-447 at: https://dagshub.com/Immortal-Pi/SurgeSense.mlflow/#/experiments/2/runs/276123f99b3443ec8e888158b7635dfe\n",
      "\n",
      "🧪 View experiment at: https://dagshub.com/Immortal-Pi/SurgeSense.mlflow/#/experiments/2\n",
      "\n",
      " 40%|████      | 4/10 [09:09<10:36, 106.02s/trial, best loss: 1.5230314838564143][2025-03-23 20:36:29,259: INFO :tpe : build_posterior_wrapper took 0.000992 seconds]\n",
      "[2025-03-23 20:36:29,262: INFO :tpe : TPE using 4/4 trials with best loss 1.523031]\n",
      "🏃 View run invincible-dog-836 at: https://dagshub.com/Immortal-Pi/SurgeSense.mlflow/#/experiments/2/runs/2a827baafbc84ab99bd3bc5302811d61\n",
      "\n",
      "🧪 View experiment at: https://dagshub.com/Immortal-Pi/SurgeSense.mlflow/#/experiments/2\n",
      "\n",
      " 50%|█████     | 5/10 [09:20<05:58, 71.80s/trial, best loss: 1.5230314838564143] [2025-03-23 20:36:40,377: INFO :tpe : build_posterior_wrapper took 0.001001 seconds]\n",
      "[2025-03-23 20:36:40,378: INFO :tpe : TPE using 5/5 trials with best loss 1.523031]\n",
      "🏃 View run rogue-moose-272 at: https://dagshub.com/Immortal-Pi/SurgeSense.mlflow/#/experiments/2/runs/a2e4b2eec08a4bef88d1cadc0ce3229b\n",
      "\n",
      "🧪 View experiment at: https://dagshub.com/Immortal-Pi/SurgeSense.mlflow/#/experiments/2\n",
      "\n",
      " 60%|██████    | 6/10 [09:52<03:53, 58.26s/trial, best loss: 1.5230314838564143][2025-03-23 20:37:12,359: INFO :tpe : build_posterior_wrapper took 0.001109 seconds]\n",
      "[2025-03-23 20:37:12,360: INFO :tpe : TPE using 6/6 trials with best loss 1.523031]\n",
      "🏃 View run zealous-croc-639 at: https://dagshub.com/Immortal-Pi/SurgeSense.mlflow/#/experiments/2/runs/faa9c6f6940d434e83b3cc8b754ccad2\n",
      "\n",
      "🧪 View experiment at: https://dagshub.com/Immortal-Pi/SurgeSense.mlflow/#/experiments/2\n",
      "\n",
      " 70%|███████   | 7/10 [11:55<03:58, 79.49s/trial, best loss: 1.5230314838564143][2025-03-23 20:39:15,572: INFO :tpe : build_posterior_wrapper took 0.002072 seconds]\n",
      "[2025-03-23 20:39:15,573: INFO :tpe : TPE using 7/7 trials with best loss 1.523031]\n",
      "🏃 View run gaudy-shrimp-142 at: https://dagshub.com/Immortal-Pi/SurgeSense.mlflow/#/experiments/2/runs/4f36fdd5f1cf4043879bc75d1be6123f\n",
      "\n",
      "🧪 View experiment at: https://dagshub.com/Immortal-Pi/SurgeSense.mlflow/#/experiments/2\n",
      "\n",
      " 80%|████████  | 8/10 [12:49<02:22, 71.43s/trial, best loss: 1.5230314838564143][2025-03-23 20:40:09,733: INFO :tpe : build_posterior_wrapper took 0.001001 seconds]\n",
      "[2025-03-23 20:40:09,734: INFO :tpe : TPE using 8/8 trials with best loss 1.523031]\n"
     ]
    }
   ],
   "source": [
    "# pipeline \n",
    "try: \n",
    "    config=HyperOptParamsConfigManager()\n",
    "    hyperopt_config=config.get_hyperopt_config()\n",
    "    hyperopt_config_training=hyperOptTraining(config=hyperopt_config)\n",
    "    best_results,trails=hyperopt_config_training.train()\n",
    "    #hyperopt_config_training.register_best_model(best_results,trails)\n",
    "except Exception as e:\n",
    "    raise e "
   ]
  },
  {
   "cell_type": "code",
   "execution_count": 10,
   "metadata": {},
   "outputs": [
    {
     "name": "stdout",
     "output_type": "stream",
     "text": [
      "[2025-03-23 18:15:35,418: INFO :common : yaml file: params.yaml loaded successfully]\n"
     ]
    },
    {
     "data": {
      "text/plain": [
       "10"
      ]
     },
     "execution_count": 10,
     "metadata": {},
     "output_type": "execute_result"
    }
   ],
   "source": [
    "data=read_yaml(PARAMS_FILE_PATH)\n",
    "data.Hyperopt_params.XGBoostRegressor.n_estimators[0]"
   ]
  },
  {
   "cell_type": "code",
   "execution_count": null,
   "metadata": {},
   "outputs": [],
   "source": []
  }
 ],
 "metadata": {
  "kernelspec": {
   "display_name": "Python 3",
   "language": "python",
   "name": "python3"
  },
  "language_info": {
   "codemirror_mode": {
    "name": "ipython",
    "version": 3
   },
   "file_extension": ".py",
   "mimetype": "text/x-python",
   "name": "python",
   "nbconvert_exporter": "python",
   "pygments_lexer": "ipython3",
   "version": "3.10.0"
  }
 },
 "nbformat": 4,
 "nbformat_minor": 2
}

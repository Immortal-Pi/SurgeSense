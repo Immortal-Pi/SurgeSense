{
 "cells": [
  {
   "cell_type": "code",
   "execution_count": 14,
   "metadata": {},
   "outputs": [],
   "source": [
    "import pandas as pd \n",
    "import numpy as np \n",
    "import os\n",
    "from datetime import datetime"
   ]
  },
  {
   "cell_type": "code",
   "execution_count": 10,
   "metadata": {},
   "outputs": [],
   "source": [
    "os.chdir('./')"
   ]
  },
  {
   "cell_type": "code",
   "execution_count": 24,
   "metadata": {},
   "outputs": [
    {
     "data": {
      "text/plain": [
       "(   distance cab_type     time_stamp    destination            source  price  \\\n",
       " 0      0.44     Lyft  1544952607890  North Station  Haymarket Square    5.0   \n",
       " 1      0.44     Lyft  1543284023677  North Station  Haymarket Square   11.0   \n",
       " 2      0.44     Lyft  1543366822198  North Station  Haymarket Square    7.0   \n",
       " 3      0.44     Lyft  1543553582749  North Station  Haymarket Square   26.0   \n",
       " 4      0.44     Lyft  1543463360223  North Station  Haymarket Square    9.0   \n",
       " \n",
       "    surge_multiplier                                    id    product_id  \\\n",
       " 0               1.0  424553bb-7174-41ea-aeb4-fe06d4f4b9d7     lyft_line   \n",
       " 1               1.0  4bd23055-6827-41c6-b23b-3c491f24e74d  lyft_premier   \n",
       " 2               1.0  981a3613-77af-4620-a42a-0c0866077d1e          lyft   \n",
       " 3               1.0  c2d88af2-d278-4bfd-a8d0-29ca77cc5512   lyft_luxsuv   \n",
       " 4               1.0  e0126e1f-8ca9-4f2e-82b3-50505a09db9a     lyft_plus   \n",
       " \n",
       "            name  \n",
       " 0        Shared  \n",
       " 1           Lux  \n",
       " 2          Lyft  \n",
       " 3  Lux Black XL  \n",
       " 4       Lyft XL  ,\n",
       "     temp            location  clouds  pressure    rain  time_stamp  humidity  \\\n",
       " 0  42.42            Back Bay     1.0   1012.14  0.1228  1545003901      0.77   \n",
       " 1  42.43         Beacon Hill     1.0   1012.15  0.1846  1545003901      0.76   \n",
       " 2  42.50   Boston University     1.0   1012.15  0.1089  1545003901      0.76   \n",
       " 3  42.11              Fenway     1.0   1012.13  0.0969  1545003901      0.77   \n",
       " 4  43.13  Financial District     1.0   1012.14  0.1786  1545003901      0.75   \n",
       " \n",
       "     wind  \n",
       " 0  11.25  \n",
       " 1  11.32  \n",
       " 2  11.07  \n",
       " 3  11.09  \n",
       " 4  11.49  )"
      ]
     },
     "execution_count": 24,
     "metadata": {},
     "output_type": "execute_result"
    }
   ],
   "source": [
    "cab_data=pd.read_csv('dataset/cab_rides.csv')\n",
    "weather_data=pd.read_csv('dataset/weather.csv')\n",
    "cab_data.head(), weather_data.head()"
   ]
  },
  {
   "cell_type": "markdown",
   "metadata": {},
   "source": [
    "# convert to time_stamp to date time"
   ]
  },
  {
   "cell_type": "code",
   "execution_count": 27,
   "metadata": {},
   "outputs": [],
   "source": [
    "cab_data['date_time']=pd.to_datetime(cab_data['time_stamp']/1000,unit='s')\n",
    "weather_data['date_time']=pd.to_datetime(weather_data['time_stamp']/1000, unit='s')"
   ]
  },
  {
   "cell_type": "markdown",
   "metadata": {},
   "source": [
    "# create a new column for merging the dataset"
   ]
  },
  {
   "cell_type": "code",
   "execution_count": 31,
   "metadata": {},
   "outputs": [],
   "source": [
    "cab_data['merge_date']=cab_data['source'].astype(str)+'-'+cab_data['date_time'].dt.date.astype(str)+'-'+cab_data['date_time'].dt.hour.astype(str)\n",
    "weather_data['merge_date']=weather_data['location'].astype(str)+weather_data['date_time'].dt.date.astype(str)+'-'+weather_data['date_time'].dt.hour.astype(str)"
   ]
  },
  {
   "cell_type": "code",
   "execution_count": 32,
   "metadata": {},
   "outputs": [
    {
     "data": {
      "text/html": [
       "<div>\n",
       "<style scoped>\n",
       "    .dataframe tbody tr th:only-of-type {\n",
       "        vertical-align: middle;\n",
       "    }\n",
       "\n",
       "    .dataframe tbody tr th {\n",
       "        vertical-align: top;\n",
       "    }\n",
       "\n",
       "    .dataframe thead th {\n",
       "        text-align: right;\n",
       "    }\n",
       "</style>\n",
       "<table border=\"1\" class=\"dataframe\">\n",
       "  <thead>\n",
       "    <tr style=\"text-align: right;\">\n",
       "      <th></th>\n",
       "      <th>distance</th>\n",
       "      <th>cab_type</th>\n",
       "      <th>time_stamp</th>\n",
       "      <th>destination</th>\n",
       "      <th>source</th>\n",
       "      <th>price</th>\n",
       "      <th>surge_multiplier</th>\n",
       "      <th>id</th>\n",
       "      <th>product_id</th>\n",
       "      <th>name</th>\n",
       "      <th>date_time</th>\n",
       "      <th>merge_date</th>\n",
       "    </tr>\n",
       "  </thead>\n",
       "  <tbody>\n",
       "    <tr>\n",
       "      <th>0</th>\n",
       "      <td>0.44</td>\n",
       "      <td>Lyft</td>\n",
       "      <td>1544952607890</td>\n",
       "      <td>North Station</td>\n",
       "      <td>Haymarket Square</td>\n",
       "      <td>5.0</td>\n",
       "      <td>1.0</td>\n",
       "      <td>424553bb-7174-41ea-aeb4-fe06d4f4b9d7</td>\n",
       "      <td>lyft_line</td>\n",
       "      <td>Shared</td>\n",
       "      <td>2018-12-16 09:30:07.890000105</td>\n",
       "      <td>Haymarket Square-2018-12-16-9</td>\n",
       "    </tr>\n",
       "    <tr>\n",
       "      <th>1</th>\n",
       "      <td>0.44</td>\n",
       "      <td>Lyft</td>\n",
       "      <td>1543284023677</td>\n",
       "      <td>North Station</td>\n",
       "      <td>Haymarket Square</td>\n",
       "      <td>11.0</td>\n",
       "      <td>1.0</td>\n",
       "      <td>4bd23055-6827-41c6-b23b-3c491f24e74d</td>\n",
       "      <td>lyft_premier</td>\n",
       "      <td>Lux</td>\n",
       "      <td>2018-11-27 02:00:23.677000046</td>\n",
       "      <td>Haymarket Square-2018-11-27-2</td>\n",
       "    </tr>\n",
       "    <tr>\n",
       "      <th>2</th>\n",
       "      <td>0.44</td>\n",
       "      <td>Lyft</td>\n",
       "      <td>1543366822198</td>\n",
       "      <td>North Station</td>\n",
       "      <td>Haymarket Square</td>\n",
       "      <td>7.0</td>\n",
       "      <td>1.0</td>\n",
       "      <td>981a3613-77af-4620-a42a-0c0866077d1e</td>\n",
       "      <td>lyft</td>\n",
       "      <td>Lyft</td>\n",
       "      <td>2018-11-28 01:00:22.197999954</td>\n",
       "      <td>Haymarket Square-2018-11-28-1</td>\n",
       "    </tr>\n",
       "    <tr>\n",
       "      <th>3</th>\n",
       "      <td>0.44</td>\n",
       "      <td>Lyft</td>\n",
       "      <td>1543553582749</td>\n",
       "      <td>North Station</td>\n",
       "      <td>Haymarket Square</td>\n",
       "      <td>26.0</td>\n",
       "      <td>1.0</td>\n",
       "      <td>c2d88af2-d278-4bfd-a8d0-29ca77cc5512</td>\n",
       "      <td>lyft_luxsuv</td>\n",
       "      <td>Lux Black XL</td>\n",
       "      <td>2018-11-30 04:53:02.749000072</td>\n",
       "      <td>Haymarket Square-2018-11-30-4</td>\n",
       "    </tr>\n",
       "    <tr>\n",
       "      <th>4</th>\n",
       "      <td>0.44</td>\n",
       "      <td>Lyft</td>\n",
       "      <td>1543463360223</td>\n",
       "      <td>North Station</td>\n",
       "      <td>Haymarket Square</td>\n",
       "      <td>9.0</td>\n",
       "      <td>1.0</td>\n",
       "      <td>e0126e1f-8ca9-4f2e-82b3-50505a09db9a</td>\n",
       "      <td>lyft_plus</td>\n",
       "      <td>Lyft XL</td>\n",
       "      <td>2018-11-29 03:49:20.223000050</td>\n",
       "      <td>Haymarket Square-2018-11-29-3</td>\n",
       "    </tr>\n",
       "  </tbody>\n",
       "</table>\n",
       "</div>"
      ],
      "text/plain": [
       "   distance cab_type     time_stamp    destination            source  price  \\\n",
       "0      0.44     Lyft  1544952607890  North Station  Haymarket Square    5.0   \n",
       "1      0.44     Lyft  1543284023677  North Station  Haymarket Square   11.0   \n",
       "2      0.44     Lyft  1543366822198  North Station  Haymarket Square    7.0   \n",
       "3      0.44     Lyft  1543553582749  North Station  Haymarket Square   26.0   \n",
       "4      0.44     Lyft  1543463360223  North Station  Haymarket Square    9.0   \n",
       "\n",
       "   surge_multiplier                                    id    product_id  \\\n",
       "0               1.0  424553bb-7174-41ea-aeb4-fe06d4f4b9d7     lyft_line   \n",
       "1               1.0  4bd23055-6827-41c6-b23b-3c491f24e74d  lyft_premier   \n",
       "2               1.0  981a3613-77af-4620-a42a-0c0866077d1e          lyft   \n",
       "3               1.0  c2d88af2-d278-4bfd-a8d0-29ca77cc5512   lyft_luxsuv   \n",
       "4               1.0  e0126e1f-8ca9-4f2e-82b3-50505a09db9a     lyft_plus   \n",
       "\n",
       "           name                     date_time                     merge_date  \n",
       "0        Shared 2018-12-16 09:30:07.890000105  Haymarket Square-2018-12-16-9  \n",
       "1           Lux 2018-11-27 02:00:23.677000046  Haymarket Square-2018-11-27-2  \n",
       "2          Lyft 2018-11-28 01:00:22.197999954  Haymarket Square-2018-11-28-1  \n",
       "3  Lux Black XL 2018-11-30 04:53:02.749000072  Haymarket Square-2018-11-30-4  \n",
       "4       Lyft XL 2018-11-29 03:49:20.223000050  Haymarket Square-2018-11-29-3  "
      ]
     },
     "execution_count": 32,
     "metadata": {},
     "output_type": "execute_result"
    }
   ],
   "source": [
    "cab_data.head()"
   ]
  },
  {
   "cell_type": "markdown",
   "metadata": {},
   "source": [
    "# check for empty values"
   ]
  },
  {
   "cell_type": "code",
   "execution_count": null,
   "metadata": {},
   "outputs": [],
   "source": []
  },
  {
   "cell_type": "markdown",
   "metadata": {},
   "source": [
    "# merge the datasets "
   ]
  },
  {
   "cell_type": "code",
   "execution_count": null,
   "metadata": {},
   "outputs": [],
   "source": [
    "groupby_value=weather_data.groupby(['merge_data'])"
   ]
  }
 ],
 "metadata": {
  "kernelspec": {
   "display_name": "Python 3",
   "language": "python",
   "name": "python3"
  },
  "language_info": {
   "codemirror_mode": {
    "name": "ipython",
    "version": 3
   },
   "file_extension": ".py",
   "mimetype": "text/x-python",
   "name": "python",
   "nbconvert_exporter": "python",
   "pygments_lexer": "ipython3",
   "version": "3.10.0"
  }
 },
 "nbformat": 4,
 "nbformat_minor": 2
}

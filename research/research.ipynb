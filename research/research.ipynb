{
 "cells": [
  {
   "cell_type": "code",
   "execution_count": 1,
   "metadata": {},
   "outputs": [],
   "source": [
    "import pandas as pd \n",
    "import numpy as np \n",
    "import os\n",
    "from datetime import datetime"
   ]
  },
  {
   "cell_type": "code",
   "execution_count": 2,
   "metadata": {},
   "outputs": [],
   "source": [
    "os.chdir('../')"
   ]
  },
  {
   "cell_type": "code",
   "execution_count": 3,
   "metadata": {},
   "outputs": [
    {
     "data": {
      "text/plain": [
       "['.env',\n",
       " '.git',\n",
       " '.github',\n",
       " '.gitignore',\n",
       " 'config',\n",
       " 'dataset',\n",
       " 'Dockerfile',\n",
       " 'dvc.yaml',\n",
       " 'logs',\n",
       " 'main.py',\n",
       " 'merged_data.csv',\n",
       " 'params.yaml',\n",
       " 'README.md',\n",
       " 'requirements.txt',\n",
       " 'research',\n",
       " 'schema.yaml',\n",
       " 'setup.py',\n",
       " 'src',\n",
       " 'template',\n",
       " 'template.py',\n",
       " 'test.py',\n",
       " 'venv']"
      ]
     },
     "execution_count": 3,
     "metadata": {},
     "output_type": "execute_result"
    }
   ],
   "source": [
    "os.listdir()"
   ]
  },
  {
   "cell_type": "code",
   "execution_count": 4,
   "metadata": {},
   "outputs": [],
   "source": [
    "cab_data=pd.read_csv('dataset/cab_rides.csv')\n",
    "weather_data=pd.read_csv('dataset/weather.csv')\n"
   ]
  },
  {
   "cell_type": "markdown",
   "metadata": {},
   "source": [
    "# convert to time_stamp to date time"
   ]
  },
  {
   "cell_type": "code",
   "execution_count": 5,
   "metadata": {},
   "outputs": [],
   "source": [
    "cab_data['date_time']=pd.to_datetime(cab_data['time_stamp']/1000,unit='s')\n",
    "weather_data['date_time']=pd.to_datetime(weather_data['time_stamp'], unit='s')"
   ]
  },
  {
   "cell_type": "markdown",
   "metadata": {},
   "source": [
    "# create a new column for merging the dataset"
   ]
  },
  {
   "cell_type": "code",
   "execution_count": 6,
   "metadata": {},
   "outputs": [],
   "source": [
    "cab_data['merge_date']=cab_data['source'].astype(str)+' - '+cab_data['date_time'].dt.date.astype(str)+' - '+cab_data['date_time'].dt.hour.astype(str)\n",
    "weather_data['merge_date']=weather_data['location'].astype(str)+' - '+weather_data['date_time'].dt.date.astype(str)+' - '+weather_data['date_time'].dt.hour.astype(str)\n",
    "weather_data.index=weather_data['merge_date']"
   ]
  },
  {
   "cell_type": "code",
   "execution_count": 7,
   "metadata": {},
   "outputs": [
    {
     "data": {
      "text/html": [
       "<div>\n",
       "<style scoped>\n",
       "    .dataframe tbody tr th:only-of-type {\n",
       "        vertical-align: middle;\n",
       "    }\n",
       "\n",
       "    .dataframe tbody tr th {\n",
       "        vertical-align: top;\n",
       "    }\n",
       "\n",
       "    .dataframe thead th {\n",
       "        text-align: right;\n",
       "    }\n",
       "</style>\n",
       "<table border=\"1\" class=\"dataframe\">\n",
       "  <thead>\n",
       "    <tr style=\"text-align: right;\">\n",
       "      <th></th>\n",
       "      <th>distance</th>\n",
       "      <th>cab_type</th>\n",
       "      <th>time_stamp</th>\n",
       "      <th>destination</th>\n",
       "      <th>source</th>\n",
       "      <th>price</th>\n",
       "      <th>surge_multiplier</th>\n",
       "      <th>id</th>\n",
       "      <th>product_id</th>\n",
       "      <th>name</th>\n",
       "      <th>...</th>\n",
       "      <th>temp</th>\n",
       "      <th>location</th>\n",
       "      <th>clouds</th>\n",
       "      <th>pressure</th>\n",
       "      <th>rain</th>\n",
       "      <th>time_stamp_w</th>\n",
       "      <th>humidity</th>\n",
       "      <th>wind</th>\n",
       "      <th>date_time_w</th>\n",
       "      <th>merge_date_w</th>\n",
       "    </tr>\n",
       "  </thead>\n",
       "  <tbody>\n",
       "    <tr>\n",
       "      <th>0</th>\n",
       "      <td>0.44</td>\n",
       "      <td>Lyft</td>\n",
       "      <td>1544952607890</td>\n",
       "      <td>North Station</td>\n",
       "      <td>Haymarket Square</td>\n",
       "      <td>5.0</td>\n",
       "      <td>1.0</td>\n",
       "      <td>424553bb-7174-41ea-aeb4-fe06d4f4b9d7</td>\n",
       "      <td>lyft_line</td>\n",
       "      <td>Shared</td>\n",
       "      <td>...</td>\n",
       "      <td>38.46</td>\n",
       "      <td>Haymarket Square</td>\n",
       "      <td>0.29</td>\n",
       "      <td>1022.25</td>\n",
       "      <td>NaN</td>\n",
       "      <td>1.544954e+09</td>\n",
       "      <td>0.76</td>\n",
       "      <td>7.68</td>\n",
       "      <td>2018-12-16 09:45:01</td>\n",
       "      <td>Haymarket Square - 2018-12-16 - 9</td>\n",
       "    </tr>\n",
       "    <tr>\n",
       "      <th>1</th>\n",
       "      <td>0.44</td>\n",
       "      <td>Lyft</td>\n",
       "      <td>1543284023677</td>\n",
       "      <td>North Station</td>\n",
       "      <td>Haymarket Square</td>\n",
       "      <td>11.0</td>\n",
       "      <td>1.0</td>\n",
       "      <td>4bd23055-6827-41c6-b23b-3c491f24e74d</td>\n",
       "      <td>lyft_premier</td>\n",
       "      <td>Lux</td>\n",
       "      <td>...</td>\n",
       "      <td>44.31</td>\n",
       "      <td>Haymarket Square</td>\n",
       "      <td>1.00</td>\n",
       "      <td>1003.17</td>\n",
       "      <td>0.1123</td>\n",
       "      <td>1.543285e+09</td>\n",
       "      <td>0.90</td>\n",
       "      <td>13.69</td>\n",
       "      <td>2018-11-27 02:15:20</td>\n",
       "      <td>Haymarket Square - 2018-11-27 - 2</td>\n",
       "    </tr>\n",
       "    <tr>\n",
       "      <th>1</th>\n",
       "      <td>0.44</td>\n",
       "      <td>Lyft</td>\n",
       "      <td>1543284023677</td>\n",
       "      <td>North Station</td>\n",
       "      <td>Haymarket Square</td>\n",
       "      <td>11.0</td>\n",
       "      <td>1.0</td>\n",
       "      <td>4bd23055-6827-41c6-b23b-3c491f24e74d</td>\n",
       "      <td>lyft_premier</td>\n",
       "      <td>Lux</td>\n",
       "      <td>...</td>\n",
       "      <td>43.82</td>\n",
       "      <td>Haymarket Square</td>\n",
       "      <td>0.99</td>\n",
       "      <td>1002.59</td>\n",
       "      <td>0.0997</td>\n",
       "      <td>1.543287e+09</td>\n",
       "      <td>0.89</td>\n",
       "      <td>11.57</td>\n",
       "      <td>2018-11-27 02:45:20</td>\n",
       "      <td>Haymarket Square - 2018-11-27 - 2</td>\n",
       "    </tr>\n",
       "    <tr>\n",
       "      <th>2</th>\n",
       "      <td>0.44</td>\n",
       "      <td>Lyft</td>\n",
       "      <td>1543366822198</td>\n",
       "      <td>North Station</td>\n",
       "      <td>Haymarket Square</td>\n",
       "      <td>7.0</td>\n",
       "      <td>1.0</td>\n",
       "      <td>981a3613-77af-4620-a42a-0c0866077d1e</td>\n",
       "      <td>lyft</td>\n",
       "      <td>Lyft</td>\n",
       "      <td>...</td>\n",
       "      <td>NaN</td>\n",
       "      <td>NaN</td>\n",
       "      <td>NaN</td>\n",
       "      <td>NaN</td>\n",
       "      <td>NaN</td>\n",
       "      <td>NaN</td>\n",
       "      <td>NaN</td>\n",
       "      <td>NaN</td>\n",
       "      <td>NaT</td>\n",
       "      <td>NaN</td>\n",
       "    </tr>\n",
       "    <tr>\n",
       "      <th>3</th>\n",
       "      <td>0.44</td>\n",
       "      <td>Lyft</td>\n",
       "      <td>1543553582749</td>\n",
       "      <td>North Station</td>\n",
       "      <td>Haymarket Square</td>\n",
       "      <td>26.0</td>\n",
       "      <td>1.0</td>\n",
       "      <td>c2d88af2-d278-4bfd-a8d0-29ca77cc5512</td>\n",
       "      <td>lyft_luxsuv</td>\n",
       "      <td>Lux Black XL</td>\n",
       "      <td>...</td>\n",
       "      <td>35.08</td>\n",
       "      <td>Haymarket Square</td>\n",
       "      <td>0.00</td>\n",
       "      <td>1013.71</td>\n",
       "      <td>NaN</td>\n",
       "      <td>1.543554e+09</td>\n",
       "      <td>0.70</td>\n",
       "      <td>5.25</td>\n",
       "      <td>2018-11-30 04:52:54</td>\n",
       "      <td>Haymarket Square - 2018-11-30 - 4</td>\n",
       "    </tr>\n",
       "  </tbody>\n",
       "</table>\n",
       "<p>5 rows × 22 columns</p>\n",
       "</div>"
      ],
      "text/plain": [
       "   distance cab_type     time_stamp    destination            source  price  \\\n",
       "0      0.44     Lyft  1544952607890  North Station  Haymarket Square    5.0   \n",
       "1      0.44     Lyft  1543284023677  North Station  Haymarket Square   11.0   \n",
       "1      0.44     Lyft  1543284023677  North Station  Haymarket Square   11.0   \n",
       "2      0.44     Lyft  1543366822198  North Station  Haymarket Square    7.0   \n",
       "3      0.44     Lyft  1543553582749  North Station  Haymarket Square   26.0   \n",
       "\n",
       "   surge_multiplier                                    id    product_id  \\\n",
       "0               1.0  424553bb-7174-41ea-aeb4-fe06d4f4b9d7     lyft_line   \n",
       "1               1.0  4bd23055-6827-41c6-b23b-3c491f24e74d  lyft_premier   \n",
       "1               1.0  4bd23055-6827-41c6-b23b-3c491f24e74d  lyft_premier   \n",
       "2               1.0  981a3613-77af-4620-a42a-0c0866077d1e          lyft   \n",
       "3               1.0  c2d88af2-d278-4bfd-a8d0-29ca77cc5512   lyft_luxsuv   \n",
       "\n",
       "           name  ...   temp          location  clouds pressure    rain  \\\n",
       "0        Shared  ...  38.46  Haymarket Square    0.29  1022.25     NaN   \n",
       "1           Lux  ...  44.31  Haymarket Square    1.00  1003.17  0.1123   \n",
       "1           Lux  ...  43.82  Haymarket Square    0.99  1002.59  0.0997   \n",
       "2          Lyft  ...    NaN               NaN     NaN      NaN     NaN   \n",
       "3  Lux Black XL  ...  35.08  Haymarket Square    0.00  1013.71     NaN   \n",
       "\n",
       "   time_stamp_w  humidity   wind         date_time_w  \\\n",
       "0  1.544954e+09      0.76   7.68 2018-12-16 09:45:01   \n",
       "1  1.543285e+09      0.90  13.69 2018-11-27 02:15:20   \n",
       "1  1.543287e+09      0.89  11.57 2018-11-27 02:45:20   \n",
       "2           NaN       NaN    NaN                 NaT   \n",
       "3  1.543554e+09      0.70   5.25 2018-11-30 04:52:54   \n",
       "\n",
       "                        merge_date_w  \n",
       "0  Haymarket Square - 2018-12-16 - 9  \n",
       "1  Haymarket Square - 2018-11-27 - 2  \n",
       "1  Haymarket Square - 2018-11-27 - 2  \n",
       "2                                NaN  \n",
       "3  Haymarket Square - 2018-11-30 - 4  \n",
       "\n",
       "[5 rows x 22 columns]"
      ]
     },
     "execution_count": 7,
     "metadata": {},
     "output_type": "execute_result"
    }
   ],
   "source": [
    "merged_df=cab_data.join(weather_data, on=['merge_date'],rsuffix='_w')\n",
    "merged_df.head()"
   ]
  },
  {
   "cell_type": "markdown",
   "metadata": {},
   "source": [
    "# merge data"
   ]
  },
  {
   "cell_type": "code",
   "execution_count": 10,
   "metadata": {},
   "outputs": [
    {
     "data": {
      "text/plain": [
       "distance                 0\n",
       "cab_type                 0\n",
       "time_stamp               0\n",
       "destination              0\n",
       "source                   0\n",
       "price               100909\n",
       "surge_multiplier         0\n",
       "id                       0\n",
       "product_id               0\n",
       "name                     0\n",
       "date_time                0\n",
       "merge_date               0\n",
       "temp                  2964\n",
       "location              2964\n",
       "clouds                2964\n",
       "pressure              2964\n",
       "rain                     0\n",
       "time_stamp_w          2964\n",
       "humidity              2964\n",
       "wind                  2964\n",
       "date_time_w           2964\n",
       "merge_date_w          2964\n",
       "dtype: int64"
      ]
     },
     "execution_count": 10,
     "metadata": {},
     "output_type": "execute_result"
    }
   ],
   "source": [
    "merged_df.isna().sum()"
   ]
  },
  {
   "cell_type": "markdown",
   "metadata": {},
   "source": [
    "# check for empty values"
   ]
  },
  {
   "cell_type": "code",
   "execution_count": 9,
   "metadata": {},
   "outputs": [
    {
     "name": "stderr",
     "output_type": "stream",
     "text": [
      "C:\\Users\\26amr\\AppData\\Local\\Temp\\ipykernel_53404\\2369464535.py:1: FutureWarning: A value is trying to be set on a copy of a DataFrame or Series through chained assignment using an inplace method.\n",
      "The behavior will change in pandas 3.0. This inplace method will never work because the intermediate object on which we are setting values always behaves as a copy.\n",
      "\n",
      "For example, when doing 'df[col].method(value, inplace=True)', try using 'df.method({col: value}, inplace=True)' or df[col] = df[col].method(value) instead, to perform the operation inplace on the original object.\n",
      "\n",
      "\n",
      "  merged_df['rain'].fillna(0,inplace=True)\n"
     ]
    }
   ],
   "source": [
    "merged_df['rain'].fillna(0,inplace=True)"
   ]
  },
  {
   "cell_type": "code",
   "execution_count": 11,
   "metadata": {},
   "outputs": [],
   "source": [
    "merged_df = merged_df[pd.notnull(merged_df['date_time_w'])]"
   ]
  },
  {
   "cell_type": "code",
   "execution_count": 12,
   "metadata": {},
   "outputs": [],
   "source": [
    "merged_df = merged_df[pd.notnull(merged_df['price'])]"
   ]
  },
  {
   "cell_type": "code",
   "execution_count": 13,
   "metadata": {},
   "outputs": [],
   "source": [
    "merged_df['day'] = merged_df.date_time.dt.dayofweek"
   ]
  },
  {
   "cell_type": "code",
   "execution_count": 14,
   "metadata": {},
   "outputs": [],
   "source": [
    "merged_df['hour'] = merged_df.date_time.dt.hour"
   ]
  },
  {
   "cell_type": "code",
   "execution_count": 15,
   "metadata": {},
   "outputs": [
    {
     "data": {
      "text/plain": [
       "count    1.164996e+06\n",
       "mean     2.388427e+00\n",
       "std      1.743907e+00\n",
       "min      0.000000e+00\n",
       "25%      1.000000e+00\n",
       "50%      2.000000e+00\n",
       "75%      3.000000e+00\n",
       "max      6.000000e+00\n",
       "Name: day, dtype: float64"
      ]
     },
     "execution_count": 15,
     "metadata": {},
     "output_type": "execute_result"
    }
   ],
   "source": [
    "merged_df['day'].describe()"
   ]
  },
  {
   "cell_type": "code",
   "execution_count": 16,
   "metadata": {},
   "outputs": [
    {
     "data": {
      "text/plain": [
       "distance            1164996\n",
       "cab_type            1164996\n",
       "time_stamp          1164996\n",
       "destination         1164996\n",
       "source              1164996\n",
       "price               1164996\n",
       "surge_multiplier    1164996\n",
       "id                  1164996\n",
       "product_id          1164996\n",
       "name                1164996\n",
       "date_time           1164996\n",
       "merge_date          1164996\n",
       "temp                1164996\n",
       "location            1164996\n",
       "clouds              1164996\n",
       "pressure            1164996\n",
       "rain                1164996\n",
       "time_stamp_w        1164996\n",
       "humidity            1164996\n",
       "wind                1164996\n",
       "date_time_w         1164996\n",
       "merge_date_w        1164996\n",
       "day                 1164996\n",
       "hour                1164996\n",
       "dtype: int64"
      ]
     },
     "execution_count": 16,
     "metadata": {},
     "output_type": "execute_result"
    }
   ],
   "source": [
    "merged_df.to_csv('dataset/merged_data.csv')\n",
    "merged_df.count()"
   ]
  },
  {
   "cell_type": "code",
   "execution_count": 17,
   "metadata": {},
   "outputs": [
    {
     "data": {
      "text/plain": [
       "Index(['distance', 'cab_type', 'time_stamp', 'destination', 'source', 'price',\n",
       "       'surge_multiplier', 'id', 'product_id', 'name', 'date_time',\n",
       "       'merge_date', 'temp', 'location', 'clouds', 'pressure', 'rain',\n",
       "       'time_stamp_w', 'humidity', 'wind', 'date_time_w', 'merge_date_w',\n",
       "       'day', 'hour'],\n",
       "      dtype='object')"
      ]
     },
     "execution_count": 17,
     "metadata": {},
     "output_type": "execute_result"
    }
   ],
   "source": [
    "merged_df.columns"
   ]
  },
  {
   "cell_type": "code",
   "execution_count": 36,
   "metadata": {},
   "outputs": [
    {
     "name": "stdout",
     "output_type": "stream",
     "text": [
      "Index(['temp', 'location', 'clouds', 'pressure', 'rain', 'time_stamp',\n",
      "       'humidity', 'wind', 'date_time', 'merge_date'],\n",
      "      dtype='object')\n"
     ]
    },
    {
     "data": {
      "text/plain": [
       "merge_date\n",
       "Back Bay - 2018-12-16 - 23                                 Back Bay\n",
       "Beacon Hill - 2018-12-16 - 23                           Beacon Hill\n",
       "Boston University - 2018-12-16 - 23               Boston University\n",
       "Fenway - 2018-12-16 - 23                                     Fenway\n",
       "Financial District - 2018-12-16 - 23             Financial District\n",
       "                                                     ...           \n",
       "North Station - 2018-12-03 - 6                        North Station\n",
       "Northeastern University - 2018-12-03 - 6    Northeastern University\n",
       "South Station - 2018-12-03 - 6                        South Station\n",
       "Theatre District - 2018-12-03 - 6                  Theatre District\n",
       "West End - 2018-12-03 - 6                                  West End\n",
       "Name: location, Length: 6276, dtype: object"
      ]
     },
     "execution_count": 36,
     "metadata": {},
     "output_type": "execute_result"
    }
   ],
   "source": [
    "print(weather_data.columns)\n",
    "weather_data['location']"
   ]
  },
  {
   "cell_type": "code",
   "execution_count": 38,
   "metadata": {},
   "outputs": [
    {
     "data": {
      "text/html": [
       "<div>\n",
       "<style scoped>\n",
       "    .dataframe tbody tr th:only-of-type {\n",
       "        vertical-align: middle;\n",
       "    }\n",
       "\n",
       "    .dataframe tbody tr th {\n",
       "        vertical-align: top;\n",
       "    }\n",
       "\n",
       "    .dataframe thead th {\n",
       "        text-align: right;\n",
       "    }\n",
       "</style>\n",
       "<table border=\"1\" class=\"dataframe\">\n",
       "  <thead>\n",
       "    <tr style=\"text-align: right;\">\n",
       "      <th></th>\n",
       "      <th>temp</th>\n",
       "      <th>clouds</th>\n",
       "      <th>pressure</th>\n",
       "      <th>rain</th>\n",
       "      <th>time_stamp</th>\n",
       "      <th>humidity</th>\n",
       "      <th>wind</th>\n",
       "    </tr>\n",
       "    <tr>\n",
       "      <th>location</th>\n",
       "      <th></th>\n",
       "      <th></th>\n",
       "      <th></th>\n",
       "      <th></th>\n",
       "      <th></th>\n",
       "      <th></th>\n",
       "      <th></th>\n",
       "    </tr>\n",
       "  </thead>\n",
       "  <tbody>\n",
       "    <tr>\n",
       "      <th>Back Bay</th>\n",
       "      <td>39.082122</td>\n",
       "      <td>0.678432</td>\n",
       "      <td>1008.447820</td>\n",
       "      <td>0.056012</td>\n",
       "      <td>1.543857e+09</td>\n",
       "      <td>0.764073</td>\n",
       "      <td>6.778528</td>\n",
       "    </tr>\n",
       "    <tr>\n",
       "      <th>Beacon Hill</th>\n",
       "      <td>39.047285</td>\n",
       "      <td>0.677801</td>\n",
       "      <td>1008.448356</td>\n",
       "      <td>0.057097</td>\n",
       "      <td>1.543857e+09</td>\n",
       "      <td>0.765048</td>\n",
       "      <td>6.810325</td>\n",
       "    </tr>\n",
       "    <tr>\n",
       "      <th>Boston University</th>\n",
       "      <td>39.047744</td>\n",
       "      <td>0.679235</td>\n",
       "      <td>1008.459254</td>\n",
       "      <td>0.054688</td>\n",
       "      <td>1.543857e+09</td>\n",
       "      <td>0.763786</td>\n",
       "      <td>6.692180</td>\n",
       "    </tr>\n",
       "    <tr>\n",
       "      <th>Fenway</th>\n",
       "      <td>38.964379</td>\n",
       "      <td>0.679866</td>\n",
       "      <td>1008.453289</td>\n",
       "      <td>0.054863</td>\n",
       "      <td>1.543857e+09</td>\n",
       "      <td>0.767266</td>\n",
       "      <td>6.711721</td>\n",
       "    </tr>\n",
       "    <tr>\n",
       "      <th>Financial District</th>\n",
       "      <td>39.410822</td>\n",
       "      <td>0.676730</td>\n",
       "      <td>1008.435793</td>\n",
       "      <td>0.061352</td>\n",
       "      <td>1.543857e+09</td>\n",
       "      <td>0.754837</td>\n",
       "      <td>6.860019</td>\n",
       "    </tr>\n",
       "    <tr>\n",
       "      <th>Haymarket Square</th>\n",
       "      <td>39.067897</td>\n",
       "      <td>0.676711</td>\n",
       "      <td>1008.445239</td>\n",
       "      <td>0.059593</td>\n",
       "      <td>1.543857e+09</td>\n",
       "      <td>0.764837</td>\n",
       "      <td>6.843193</td>\n",
       "    </tr>\n",
       "    <tr>\n",
       "      <th>North End</th>\n",
       "      <td>39.090841</td>\n",
       "      <td>0.676730</td>\n",
       "      <td>1008.441912</td>\n",
       "      <td>0.058712</td>\n",
       "      <td>1.543857e+09</td>\n",
       "      <td>0.764054</td>\n",
       "      <td>6.853117</td>\n",
       "    </tr>\n",
       "    <tr>\n",
       "      <th>North Station</th>\n",
       "      <td>39.035315</td>\n",
       "      <td>0.676998</td>\n",
       "      <td>1008.442811</td>\n",
       "      <td>0.056542</td>\n",
       "      <td>1.543857e+09</td>\n",
       "      <td>0.765545</td>\n",
       "      <td>6.835755</td>\n",
       "    </tr>\n",
       "    <tr>\n",
       "      <th>Northeastern University</th>\n",
       "      <td>38.975086</td>\n",
       "      <td>0.678317</td>\n",
       "      <td>1008.444168</td>\n",
       "      <td>0.054197</td>\n",
       "      <td>1.543857e+09</td>\n",
       "      <td>0.767648</td>\n",
       "      <td>6.749426</td>\n",
       "    </tr>\n",
       "    <tr>\n",
       "      <th>South Station</th>\n",
       "      <td>39.394092</td>\n",
       "      <td>0.677495</td>\n",
       "      <td>1008.438031</td>\n",
       "      <td>0.059537</td>\n",
       "      <td>1.543857e+09</td>\n",
       "      <td>0.755468</td>\n",
       "      <td>6.848948</td>\n",
       "    </tr>\n",
       "    <tr>\n",
       "      <th>Theatre District</th>\n",
       "      <td>38.986711</td>\n",
       "      <td>0.677763</td>\n",
       "      <td>1008.444742</td>\n",
       "      <td>0.060214</td>\n",
       "      <td>1.543857e+09</td>\n",
       "      <td>0.767992</td>\n",
       "      <td>6.834302</td>\n",
       "    </tr>\n",
       "    <tr>\n",
       "      <th>West End</th>\n",
       "      <td>38.983403</td>\n",
       "      <td>0.677247</td>\n",
       "      <td>1008.441090</td>\n",
       "      <td>0.058803</td>\n",
       "      <td>1.543857e+09</td>\n",
       "      <td>0.767266</td>\n",
       "      <td>6.816233</td>\n",
       "    </tr>\n",
       "  </tbody>\n",
       "</table>\n",
       "</div>"
      ],
      "text/plain": [
       "                              temp    clouds     pressure      rain  \\\n",
       "location                                                              \n",
       "Back Bay                 39.082122  0.678432  1008.447820  0.056012   \n",
       "Beacon Hill              39.047285  0.677801  1008.448356  0.057097   \n",
       "Boston University        39.047744  0.679235  1008.459254  0.054688   \n",
       "Fenway                   38.964379  0.679866  1008.453289  0.054863   \n",
       "Financial District       39.410822  0.676730  1008.435793  0.061352   \n",
       "Haymarket Square         39.067897  0.676711  1008.445239  0.059593   \n",
       "North End                39.090841  0.676730  1008.441912  0.058712   \n",
       "North Station            39.035315  0.676998  1008.442811  0.056542   \n",
       "Northeastern University  38.975086  0.678317  1008.444168  0.054197   \n",
       "South Station            39.394092  0.677495  1008.438031  0.059537   \n",
       "Theatre District         38.986711  0.677763  1008.444742  0.060214   \n",
       "West End                 38.983403  0.677247  1008.441090  0.058803   \n",
       "\n",
       "                           time_stamp  humidity      wind  \n",
       "location                                                   \n",
       "Back Bay                 1.543857e+09  0.764073  6.778528  \n",
       "Beacon Hill              1.543857e+09  0.765048  6.810325  \n",
       "Boston University        1.543857e+09  0.763786  6.692180  \n",
       "Fenway                   1.543857e+09  0.767266  6.711721  \n",
       "Financial District       1.543857e+09  0.754837  6.860019  \n",
       "Haymarket Square         1.543857e+09  0.764837  6.843193  \n",
       "North End                1.543857e+09  0.764054  6.853117  \n",
       "North Station            1.543857e+09  0.765545  6.835755  \n",
       "Northeastern University  1.543857e+09  0.767648  6.749426  \n",
       "South Station            1.543857e+09  0.755468  6.848948  \n",
       "Theatre District         1.543857e+09  0.767992  6.834302  \n",
       "West End                 1.543857e+09  0.767266  6.816233  "
      ]
     },
     "execution_count": 38,
     "metadata": {},
     "output_type": "execute_result"
    }
   ],
   "source": [
    "weather_data[['temp','clouds','pressure','rain','time_stamp','humidity','wind','location']].groupby('location').mean()"
   ]
  },
  {
   "cell_type": "code",
   "execution_count": null,
   "metadata": {},
   "outputs": [
    {
     "ename": "TypeError",
     "evalue": "agg function failed [how->mean,dtype->object]",
     "output_type": "error",
     "traceback": [
      "\u001b[1;31m---------------------------------------------------------------------------\u001b[0m",
      "\u001b[1;31mTypeError\u001b[0m                                 Traceback (most recent call last)",
      "File \u001b[1;32md:\\pythonProjects\\SurgeSense\\venv\\lib\\site-packages\\pandas\\core\\groupby\\groupby.py:1942\u001b[0m, in \u001b[0;36mGroupBy._agg_py_fallback\u001b[1;34m(self, how, values, ndim, alt)\u001b[0m\n\u001b[0;32m   1941\u001b[0m \u001b[38;5;28;01mtry\u001b[39;00m:\n\u001b[1;32m-> 1942\u001b[0m     res_values \u001b[38;5;241m=\u001b[39m \u001b[38;5;28;43mself\u001b[39;49m\u001b[38;5;241;43m.\u001b[39;49m\u001b[43m_grouper\u001b[49m\u001b[38;5;241;43m.\u001b[39;49m\u001b[43magg_series\u001b[49m\u001b[43m(\u001b[49m\u001b[43mser\u001b[49m\u001b[43m,\u001b[49m\u001b[43m \u001b[49m\u001b[43malt\u001b[49m\u001b[43m,\u001b[49m\u001b[43m \u001b[49m\u001b[43mpreserve_dtype\u001b[49m\u001b[38;5;241;43m=\u001b[39;49m\u001b[38;5;28;43;01mTrue\u001b[39;49;00m\u001b[43m)\u001b[49m\n\u001b[0;32m   1943\u001b[0m \u001b[38;5;28;01mexcept\u001b[39;00m \u001b[38;5;167;01mException\u001b[39;00m \u001b[38;5;28;01mas\u001b[39;00m err:\n",
      "File \u001b[1;32md:\\pythonProjects\\SurgeSense\\venv\\lib\\site-packages\\pandas\\core\\groupby\\ops.py:864\u001b[0m, in \u001b[0;36mBaseGrouper.agg_series\u001b[1;34m(self, obj, func, preserve_dtype)\u001b[0m\n\u001b[0;32m    862\u001b[0m     preserve_dtype \u001b[38;5;241m=\u001b[39m \u001b[38;5;28;01mTrue\u001b[39;00m\n\u001b[1;32m--> 864\u001b[0m result \u001b[38;5;241m=\u001b[39m \u001b[38;5;28;43mself\u001b[39;49m\u001b[38;5;241;43m.\u001b[39;49m\u001b[43m_aggregate_series_pure_python\u001b[49m\u001b[43m(\u001b[49m\u001b[43mobj\u001b[49m\u001b[43m,\u001b[49m\u001b[43m \u001b[49m\u001b[43mfunc\u001b[49m\u001b[43m)\u001b[49m\n\u001b[0;32m    866\u001b[0m npvalues \u001b[38;5;241m=\u001b[39m lib\u001b[38;5;241m.\u001b[39mmaybe_convert_objects(result, try_float\u001b[38;5;241m=\u001b[39m\u001b[38;5;28;01mFalse\u001b[39;00m)\n",
      "File \u001b[1;32md:\\pythonProjects\\SurgeSense\\venv\\lib\\site-packages\\pandas\\core\\groupby\\ops.py:885\u001b[0m, in \u001b[0;36mBaseGrouper._aggregate_series_pure_python\u001b[1;34m(self, obj, func)\u001b[0m\n\u001b[0;32m    884\u001b[0m \u001b[38;5;28;01mfor\u001b[39;00m i, group \u001b[38;5;129;01min\u001b[39;00m \u001b[38;5;28menumerate\u001b[39m(splitter):\n\u001b[1;32m--> 885\u001b[0m     res \u001b[38;5;241m=\u001b[39m \u001b[43mfunc\u001b[49m\u001b[43m(\u001b[49m\u001b[43mgroup\u001b[49m\u001b[43m)\u001b[49m\n\u001b[0;32m    886\u001b[0m     res \u001b[38;5;241m=\u001b[39m extract_result(res)\n",
      "File \u001b[1;32md:\\pythonProjects\\SurgeSense\\venv\\lib\\site-packages\\pandas\\core\\groupby\\groupby.py:2454\u001b[0m, in \u001b[0;36mGroupBy.mean.<locals>.<lambda>\u001b[1;34m(x)\u001b[0m\n\u001b[0;32m   2451\u001b[0m \u001b[38;5;28;01melse\u001b[39;00m:\n\u001b[0;32m   2452\u001b[0m     result \u001b[38;5;241m=\u001b[39m \u001b[38;5;28mself\u001b[39m\u001b[38;5;241m.\u001b[39m_cython_agg_general(\n\u001b[0;32m   2453\u001b[0m         \u001b[38;5;124m\"\u001b[39m\u001b[38;5;124mmean\u001b[39m\u001b[38;5;124m\"\u001b[39m,\n\u001b[1;32m-> 2454\u001b[0m         alt\u001b[38;5;241m=\u001b[39m\u001b[38;5;28;01mlambda\u001b[39;00m x: \u001b[43mSeries\u001b[49m\u001b[43m(\u001b[49m\u001b[43mx\u001b[49m\u001b[43m,\u001b[49m\u001b[43m \u001b[49m\u001b[43mcopy\u001b[49m\u001b[38;5;241;43m=\u001b[39;49m\u001b[38;5;28;43;01mFalse\u001b[39;49;00m\u001b[43m)\u001b[49m\u001b[38;5;241;43m.\u001b[39;49m\u001b[43mmean\u001b[49m\u001b[43m(\u001b[49m\u001b[43mnumeric_only\u001b[49m\u001b[38;5;241;43m=\u001b[39;49m\u001b[43mnumeric_only\u001b[49m\u001b[43m)\u001b[49m,\n\u001b[0;32m   2455\u001b[0m         numeric_only\u001b[38;5;241m=\u001b[39mnumeric_only,\n\u001b[0;32m   2456\u001b[0m     )\n\u001b[0;32m   2457\u001b[0m     \u001b[38;5;28;01mreturn\u001b[39;00m result\u001b[38;5;241m.\u001b[39m__finalize__(\u001b[38;5;28mself\u001b[39m\u001b[38;5;241m.\u001b[39mobj, method\u001b[38;5;241m=\u001b[39m\u001b[38;5;124m\"\u001b[39m\u001b[38;5;124mgroupby\u001b[39m\u001b[38;5;124m\"\u001b[39m)\n",
      "File \u001b[1;32md:\\pythonProjects\\SurgeSense\\venv\\lib\\site-packages\\pandas\\core\\series.py:6549\u001b[0m, in \u001b[0;36mSeries.mean\u001b[1;34m(self, axis, skipna, numeric_only, **kwargs)\u001b[0m\n\u001b[0;32m   6541\u001b[0m \u001b[38;5;129m@doc\u001b[39m(make_doc(\u001b[38;5;124m\"\u001b[39m\u001b[38;5;124mmean\u001b[39m\u001b[38;5;124m\"\u001b[39m, ndim\u001b[38;5;241m=\u001b[39m\u001b[38;5;241m1\u001b[39m))\n\u001b[0;32m   6542\u001b[0m \u001b[38;5;28;01mdef\u001b[39;00m\u001b[38;5;250m \u001b[39m\u001b[38;5;21mmean\u001b[39m(\n\u001b[0;32m   6543\u001b[0m     \u001b[38;5;28mself\u001b[39m,\n\u001b[1;32m   (...)\u001b[0m\n\u001b[0;32m   6547\u001b[0m     \u001b[38;5;241m*\u001b[39m\u001b[38;5;241m*\u001b[39mkwargs,\n\u001b[0;32m   6548\u001b[0m ):\n\u001b[1;32m-> 6549\u001b[0m     \u001b[38;5;28;01mreturn\u001b[39;00m NDFrame\u001b[38;5;241m.\u001b[39mmean(\u001b[38;5;28mself\u001b[39m, axis, skipna, numeric_only, \u001b[38;5;241m*\u001b[39m\u001b[38;5;241m*\u001b[39mkwargs)\n",
      "File \u001b[1;32md:\\pythonProjects\\SurgeSense\\venv\\lib\\site-packages\\pandas\\core\\generic.py:12420\u001b[0m, in \u001b[0;36mNDFrame.mean\u001b[1;34m(self, axis, skipna, numeric_only, **kwargs)\u001b[0m\n\u001b[0;32m  12413\u001b[0m \u001b[38;5;28;01mdef\u001b[39;00m\u001b[38;5;250m \u001b[39m\u001b[38;5;21mmean\u001b[39m(\n\u001b[0;32m  12414\u001b[0m     \u001b[38;5;28mself\u001b[39m,\n\u001b[0;32m  12415\u001b[0m     axis: Axis \u001b[38;5;241m|\u001b[39m \u001b[38;5;28;01mNone\u001b[39;00m \u001b[38;5;241m=\u001b[39m \u001b[38;5;241m0\u001b[39m,\n\u001b[1;32m   (...)\u001b[0m\n\u001b[0;32m  12418\u001b[0m     \u001b[38;5;241m*\u001b[39m\u001b[38;5;241m*\u001b[39mkwargs,\n\u001b[0;32m  12419\u001b[0m ) \u001b[38;5;241m-\u001b[39m\u001b[38;5;241m>\u001b[39m Series \u001b[38;5;241m|\u001b[39m \u001b[38;5;28mfloat\u001b[39m:\n\u001b[1;32m> 12420\u001b[0m     \u001b[38;5;28;01mreturn\u001b[39;00m \u001b[38;5;28mself\u001b[39m\u001b[38;5;241m.\u001b[39m_stat_function(\n\u001b[0;32m  12421\u001b[0m         \u001b[38;5;124m\"\u001b[39m\u001b[38;5;124mmean\u001b[39m\u001b[38;5;124m\"\u001b[39m, nanops\u001b[38;5;241m.\u001b[39mnanmean, axis, skipna, numeric_only, \u001b[38;5;241m*\u001b[39m\u001b[38;5;241m*\u001b[39mkwargs\n\u001b[0;32m  12422\u001b[0m     )\n",
      "File \u001b[1;32md:\\pythonProjects\\SurgeSense\\venv\\lib\\site-packages\\pandas\\core\\generic.py:12377\u001b[0m, in \u001b[0;36mNDFrame._stat_function\u001b[1;34m(self, name, func, axis, skipna, numeric_only, **kwargs)\u001b[0m\n\u001b[0;32m  12375\u001b[0m validate_bool_kwarg(skipna, \u001b[38;5;124m\"\u001b[39m\u001b[38;5;124mskipna\u001b[39m\u001b[38;5;124m\"\u001b[39m, none_allowed\u001b[38;5;241m=\u001b[39m\u001b[38;5;28;01mFalse\u001b[39;00m)\n\u001b[1;32m> 12377\u001b[0m \u001b[38;5;28;01mreturn\u001b[39;00m \u001b[38;5;28;43mself\u001b[39;49m\u001b[38;5;241;43m.\u001b[39;49m\u001b[43m_reduce\u001b[49m\u001b[43m(\u001b[49m\n\u001b[0;32m  12378\u001b[0m \u001b[43m    \u001b[49m\u001b[43mfunc\u001b[49m\u001b[43m,\u001b[49m\u001b[43m \u001b[49m\u001b[43mname\u001b[49m\u001b[38;5;241;43m=\u001b[39;49m\u001b[43mname\u001b[49m\u001b[43m,\u001b[49m\u001b[43m \u001b[49m\u001b[43maxis\u001b[49m\u001b[38;5;241;43m=\u001b[39;49m\u001b[43maxis\u001b[49m\u001b[43m,\u001b[49m\u001b[43m \u001b[49m\u001b[43mskipna\u001b[49m\u001b[38;5;241;43m=\u001b[39;49m\u001b[43mskipna\u001b[49m\u001b[43m,\u001b[49m\u001b[43m \u001b[49m\u001b[43mnumeric_only\u001b[49m\u001b[38;5;241;43m=\u001b[39;49m\u001b[43mnumeric_only\u001b[49m\n\u001b[0;32m  12379\u001b[0m \u001b[43m\u001b[49m\u001b[43m)\u001b[49m\n",
      "File \u001b[1;32md:\\pythonProjects\\SurgeSense\\venv\\lib\\site-packages\\pandas\\core\\series.py:6457\u001b[0m, in \u001b[0;36mSeries._reduce\u001b[1;34m(self, op, name, axis, skipna, numeric_only, filter_type, **kwds)\u001b[0m\n\u001b[0;32m   6453\u001b[0m     \u001b[38;5;28;01mraise\u001b[39;00m \u001b[38;5;167;01mTypeError\u001b[39;00m(\n\u001b[0;32m   6454\u001b[0m         \u001b[38;5;124mf\u001b[39m\u001b[38;5;124m\"\u001b[39m\u001b[38;5;124mSeries.\u001b[39m\u001b[38;5;132;01m{\u001b[39;00mname\u001b[38;5;132;01m}\u001b[39;00m\u001b[38;5;124m does not allow \u001b[39m\u001b[38;5;132;01m{\u001b[39;00mkwd_name\u001b[38;5;132;01m}\u001b[39;00m\u001b[38;5;124m=\u001b[39m\u001b[38;5;132;01m{\u001b[39;00mnumeric_only\u001b[38;5;132;01m}\u001b[39;00m\u001b[38;5;124m \u001b[39m\u001b[38;5;124m\"\u001b[39m\n\u001b[0;32m   6455\u001b[0m         \u001b[38;5;124m\"\u001b[39m\u001b[38;5;124mwith non-numeric dtypes.\u001b[39m\u001b[38;5;124m\"\u001b[39m\n\u001b[0;32m   6456\u001b[0m     )\n\u001b[1;32m-> 6457\u001b[0m \u001b[38;5;28;01mreturn\u001b[39;00m op(delegate, skipna\u001b[38;5;241m=\u001b[39mskipna, \u001b[38;5;241m*\u001b[39m\u001b[38;5;241m*\u001b[39mkwds)\n",
      "File \u001b[1;32md:\\pythonProjects\\SurgeSense\\venv\\lib\\site-packages\\pandas\\core\\nanops.py:147\u001b[0m, in \u001b[0;36mbottleneck_switch.__call__.<locals>.f\u001b[1;34m(values, axis, skipna, **kwds)\u001b[0m\n\u001b[0;32m    146\u001b[0m \u001b[38;5;28;01melse\u001b[39;00m:\n\u001b[1;32m--> 147\u001b[0m     result \u001b[38;5;241m=\u001b[39m alt(values, axis\u001b[38;5;241m=\u001b[39maxis, skipna\u001b[38;5;241m=\u001b[39mskipna, \u001b[38;5;241m*\u001b[39m\u001b[38;5;241m*\u001b[39mkwds)\n\u001b[0;32m    149\u001b[0m \u001b[38;5;28;01mreturn\u001b[39;00m result\n",
      "File \u001b[1;32md:\\pythonProjects\\SurgeSense\\venv\\lib\\site-packages\\pandas\\core\\nanops.py:404\u001b[0m, in \u001b[0;36m_datetimelike_compat.<locals>.new_func\u001b[1;34m(values, axis, skipna, mask, **kwargs)\u001b[0m\n\u001b[0;32m    402\u001b[0m     mask \u001b[38;5;241m=\u001b[39m isna(values)\n\u001b[1;32m--> 404\u001b[0m result \u001b[38;5;241m=\u001b[39m func(values, axis\u001b[38;5;241m=\u001b[39maxis, skipna\u001b[38;5;241m=\u001b[39mskipna, mask\u001b[38;5;241m=\u001b[39mmask, \u001b[38;5;241m*\u001b[39m\u001b[38;5;241m*\u001b[39mkwargs)\n\u001b[0;32m    406\u001b[0m \u001b[38;5;28;01mif\u001b[39;00m datetimelike:\n",
      "File \u001b[1;32md:\\pythonProjects\\SurgeSense\\venv\\lib\\site-packages\\pandas\\core\\nanops.py:720\u001b[0m, in \u001b[0;36mnanmean\u001b[1;34m(values, axis, skipna, mask)\u001b[0m\n\u001b[0;32m    719\u001b[0m the_sum \u001b[38;5;241m=\u001b[39m values\u001b[38;5;241m.\u001b[39msum(axis, dtype\u001b[38;5;241m=\u001b[39mdtype_sum)\n\u001b[1;32m--> 720\u001b[0m the_sum \u001b[38;5;241m=\u001b[39m \u001b[43m_ensure_numeric\u001b[49m\u001b[43m(\u001b[49m\u001b[43mthe_sum\u001b[49m\u001b[43m)\u001b[49m\n\u001b[0;32m    722\u001b[0m \u001b[38;5;28;01mif\u001b[39;00m axis \u001b[38;5;129;01mis\u001b[39;00m \u001b[38;5;129;01mnot\u001b[39;00m \u001b[38;5;28;01mNone\u001b[39;00m \u001b[38;5;129;01mand\u001b[39;00m \u001b[38;5;28mgetattr\u001b[39m(the_sum, \u001b[38;5;124m\"\u001b[39m\u001b[38;5;124mndim\u001b[39m\u001b[38;5;124m\"\u001b[39m, \u001b[38;5;28;01mFalse\u001b[39;00m):\n",
      "File \u001b[1;32md:\\pythonProjects\\SurgeSense\\venv\\lib\\site-packages\\pandas\\core\\nanops.py:1701\u001b[0m, in \u001b[0;36m_ensure_numeric\u001b[1;34m(x)\u001b[0m\n\u001b[0;32m   1699\u001b[0m \u001b[38;5;28;01mif\u001b[39;00m \u001b[38;5;28misinstance\u001b[39m(x, \u001b[38;5;28mstr\u001b[39m):\n\u001b[0;32m   1700\u001b[0m     \u001b[38;5;66;03m# GH#44008, GH#36703 avoid casting e.g. strings to numeric\u001b[39;00m\n\u001b[1;32m-> 1701\u001b[0m     \u001b[38;5;28;01mraise\u001b[39;00m \u001b[38;5;167;01mTypeError\u001b[39;00m(\u001b[38;5;124mf\u001b[39m\u001b[38;5;124m\"\u001b[39m\u001b[38;5;124mCould not convert string \u001b[39m\u001b[38;5;124m'\u001b[39m\u001b[38;5;132;01m{\u001b[39;00mx\u001b[38;5;132;01m}\u001b[39;00m\u001b[38;5;124m'\u001b[39m\u001b[38;5;124m to numeric\u001b[39m\u001b[38;5;124m\"\u001b[39m)\n\u001b[0;32m   1702\u001b[0m \u001b[38;5;28;01mtry\u001b[39;00m:\n",
      "\u001b[1;31mTypeError\u001b[0m: Could not convert string 'Back Bay - 2018-12-16 - 23Back Bay - 2018-11-27 - 19Back Bay - 2018-11-29 - 0Back Bay - 2018-12-14 - 11Back Bay - 2018-11-26 - 17Back Bay - 2018-12-15 - 10Back Bay - 2018-12-14 - 18Back Bay - 2018-12-17 - 17Back Bay - 2018-11-29 - 0Back Bay - 2018-12-01 - 23Back Bay - 2018-11-28 - 9Back Bay - 2018-12-18 - 10Back Bay - 2018-12-10 - 2Back Bay - 2018-11-26 - 5Back Bay - 2018-11-29 - 19Back Bay - 2018-12-13 - 18Back Bay - 2018-12-18 - 7Back Bay - 2018-11-28 - 10Back Bay - 2018-12-15 - 14Back Bay - 2018-12-01 - 20Back Bay - 2018-11-28 - 9Back Bay - 2018-11-27 - 5Back Bay - 2018-12-14 - 16Back Bay - 2018-11-26 - 17Back Bay - 2018-11-30 - 22Back Bay - 2018-11-28 - 22Back Bay - 2018-11-27 - 1Back Bay - 2018-12-17 - 6Back Bay - 2018-12-13 - 6Back Bay - 2018-11-26 - 6Back Bay - 2018-11-29 - 0Back Bay - 2018-11-29 - 9Back Bay - 2018-12-15 - 16Back Bay - 2018-12-17 - 22Back Bay - 2018-12-01 - 2Back Bay - 2018-12-14 - 6Back Bay - 2018-11-29 - 14Back Bay - 2018-11-28 - 9Back Bay - 2018-12-01 - 15Back Bay - 2018-12-16 - 1Back Bay - 2018-11-28 - 0Back Bay - 2018-11-26 - 5Back Bay - 2018-12-18 - 2Back Bay - 2018-11-29 - 2Back Bay - 2018-11-28 - 23Back Bay - 2018-12-13 - 20Back Bay - 2018-12-13 - 11Back Bay - 2018-12-16 - 0Back Bay - 2018-12-14 - 9Back Bay - 2018-12-02 - 8Back Bay - 2018-11-30 - 16Back Bay - 2018-12-14 - 8Back Bay - 2018-11-29 - 4Back Bay - 2018-12-15 - 17Back Bay - 2018-12-02 - 20Back Bay - 2018-11-28 - 7Back Bay - 2018-11-29 - 1Back Bay - 2018-12-18 - 17Back Bay - 2018-11-28 - 10Back Bay - 2018-12-01 - 6Back Bay - 2018-11-26 - 16Back Bay - 2018-12-03 - 10Back Bay - 2018-12-01 - 2Back Bay - 2018-12-16 - 2Back Bay - 2018-12-17 - 20Back Bay - 2018-11-29 - 4Back Bay - 2018-11-26 - 4Back Bay - 2018-11-28 - 19Back Bay - 2018-11-27 - 20Back Bay - 2018-11-26 - 10Back Bay - 2018-11-26 - 8Back Bay - 2018-12-16 - 5Back Bay - 2018-12-13 - 17Back Bay - 2018-11-28 - 23Back Bay - 2018-11-28 - 7Back Bay - 2018-11-27 - 12Back Bay - 2018-11-29 - 4Back Bay - 2018-11-26 - 5Back Bay - 2018-11-29 - 2Back Bay - 2018-12-01 - 21Back Bay - 2018-12-13 - 21Back Bay - 2018-11-26 - 16Back Bay - 2018-11-28 - 17Back Bay - 2018-12-13 - 7Back Bay - 2018-11-28 - 7Back Bay - 2018-12-02 - 21Back Bay - 2018-12-02 - 23Back Bay - 2018-12-18 - 11Back Bay - 2018-11-28 - 13Back Bay - 2018-12-03 - 20Back Bay - 2018-12-18 - 8Back Bay - 2018-12-03 - 12Back Bay - 2018-12-13 - 14Back Bay - 2018-11-29 - 0Back Bay - 2018-11-26 - 13Back Bay - 2018-11-26 - 18Back Bay - 2018-11-27 - 11Back Bay - 2018-12-01 - 5Back Bay - 2018-12-16 - 14Back Bay - 2018-11-30 - 9Back Bay - 2018-12-15 - 5Back Bay - 2018-11-28 - 8Back Bay - 2018-12-10 - 0Back Bay - 2018-11-26 - 22Back Bay - 2018-11-29 - 16Back Bay - 2018-12-13 - 15Back Bay - 2018-12-16 - 17Back Bay - 2018-12-14 - 4Back Bay - 2018-11-27 - 16Back Bay - 2018-12-17 - 5Back Bay - 2018-12-13 - 5Back Bay - 2018-12-01 - 8Back Bay - 2018-11-28 - 21Back Bay - 2018-11-27 - 5Back Bay - 2018-11-26 - 6Back Bay - 2018-12-17 - 9Back Bay - 2018-11-29 - 4Back Bay - 2018-11-26 - 20Back Bay - 2018-11-28 - 7Back Bay - 2018-11-27 - 7Back Bay - 2018-11-28 - 7Back Bay - 2018-11-29 - 21Back Bay - 2018-12-16 - 20Back Bay - 2018-11-28 - 19Back Bay - 2018-11-27 - 0Back Bay - 2018-12-01 - 18Back Bay - 2018-11-27 - 0Back Bay - 2018-11-28 - 19Back Bay - 2018-11-30 - 14Back Bay - 2018-11-28 - 20Back Bay - 2018-12-16 - 21Back Bay - 2018-12-02 - 15Back Bay - 2018-11-28 - 12Back Bay - 2018-11-29 - 3Back Bay - 2018-12-14 - 19Back Bay - 2018-11-26 - 22Back Bay - 2018-12-16 - 3Back Bay - 2018-11-26 - 21Back Bay - 2018-11-26 - 4Back Bay - 2018-12-15 - 4Back Bay - 2018-12-03 - 0Back Bay - 2018-11-26 - 9Back Bay - 2018-12-15 - 11Back Bay - 2018-11-28 - 20Back Bay - 2018-12-01 - 14Back Bay - 2018-11-29 - 15Back Bay - 2018-12-14 - 20Back Bay - 2018-12-03 - 18Back Bay - 2018-12-15 - 22Back Bay - 2018-11-26 - 9Back Bay - 2018-12-17 - 18Back Bay - 2018-11-29 - 1Back Bay - 2018-12-13 - 23Back Bay - 2018-12-13 - 19Back Bay - 2018-12-01 - 0Back Bay - 2018-11-30 - 18Back Bay - 2018-12-16 - 16Back Bay - 2018-11-29 - 4Back Bay - 2018-11-28 - 11Back Bay - 2018-12-01 - 3Back Bay - 2018-11-29 - 2Back Bay - 2018-11-28 - 12Back Bay - 2018-11-26 - 14Back Bay - 2018-11-29 - 1Back Bay - 2018-11-26 - 19Back Bay - 2018-11-28 - 14Back Bay - 2018-11-26 - 6Back Bay - 2018-11-26 - 7Back Bay - 2018-12-03 - 1Back Bay - 2018-12-16 - 13Back Bay - 2018-11-29 - 1Back Bay - 2018-11-28 - 18Back Bay - 2018-11-27 - 7Back Bay - 2018-12-02 - 17Back Bay - 2018-11-27 - 18Back Bay - 2018-12-02 - 3Back Bay - 2018-11-27 - 11Back Bay - 2018-11-27 - 9Back Bay - 2018-11-28 - 7Back Bay - 2018-11-27 - 17Back Bay - 2018-11-30 - 20Back Bay - 2018-11-26 - 5Back Bay - 2018-12-13 - 9Back Bay - 2018-11-29 - 5Back Bay - 2018-12-03 - 11Back Bay - 2018-12-03 - 9Back Bay - 2018-11-30 - 5Back Bay - 2018-12-15 - 9Back Bay - 2018-12-02 - 2Back Bay - 2018-12-13 - 3Back Bay - 2018-12-16 - 8Back Bay - 2018-11-28 - 13Back Bay - 2018-11-26 - 19Back Bay - 2018-11-29 - 13Back Bay - 2018-11-30 - 15Back Bay - 2018-11-27 - 6Back Bay - 2018-11-30 - 17Back Bay - 2018-11-28 - 10Back Bay - 2018-11-28 - 8Back Bay - 2018-11-28 - 6Back Bay - 2018-12-17 - 1Back Bay - 2018-11-29 - 6Back Bay - 2018-11-28 - 16Back Bay - 2018-12-13 - 8Back Bay - 2018-11-29 - 22Back Bay - 2018-12-17 - 4Back Bay - 2018-11-27 - 15Back Bay - 2018-12-13 - 13Back Bay - 2018-11-29 - 4Back Bay - 2018-12-16 - 19Back Bay - 2018-12-17 - 13Back Bay - 2018-11-26 - 11Back Bay - 2018-11-26 - 23Back Bay - 2018-11-28 - 10Back Bay - 2018-11-30 - 8Back Bay - 2018-11-28 - 18Back Bay - 2018-11-27 - 8Back Bay - 2018-11-26 - 6Back Bay - 2018-12-01 - 16Back Bay - 2018-11-27 - 0Back Bay - 2018-11-27 - 13Back Bay - 2018-12-10 - 2Back Bay - 2018-11-27 - 10Back Bay - 2018-11-26 - 6Back Bay - 2018-12-17 - 11Back Bay - 2018-12-01 - 11Back Bay - 2018-12-17 - 12Back Bay - 2018-11-29 - 10Back Bay - 2018-11-28 - 23Back Bay - 2018-11-26 - 6Back Bay - 2018-12-01 - 19Back Bay - 2018-11-26 - 9Back Bay - 2018-12-03 - 5Back Bay - 2018-11-26 - 7Back Bay - 2018-11-26 - 6Back Bay - 2018-11-29 - 1Back Bay - 2018-12-09 - 23Back Bay - 2018-12-17 - 16Back Bay - 2018-11-29 - 2Back Bay - 2018-11-28 - 7Back Bay - 2018-11-29 - 3Back Bay - 2018-11-28 - 16Back Bay - 2018-12-17 - 15Back Bay - 2018-12-17 - 10Back Bay - 2018-11-29 - 8Back Bay - 2018-12-17 - 23Back Bay - 2018-12-02 - 14Back Bay - 2018-11-30 - 13Back Bay - 2018-11-27 - 3Back Bay - 2018-11-29 - 6Back Bay - 2018-11-26 - 8Back Bay - 2018-11-28 - 17Back Bay - 2018-11-26 - 6Back Bay - 2018-11-26 - 18Back Bay - 2018-11-27 - 1Back Bay - 2018-12-02 - 7Back Bay - 2018-11-27 - 0Back Bay - 2018-12-02 - 4Back Bay - 2018-11-28 - 11Back Bay - 2018-12-03 - 17Back Bay - 2018-12-13 - 4Back Bay - 2018-12-15 - 21Back Bay - 2018-12-01 - 22Back Bay - 2018-12-18 - 18Back Bay - 2018-12-03 - 19Back Bay - 2018-11-30 - 23Back Bay - 2018-11-30 - 1Back Bay - 2018-11-26 - 5Back Bay - 2018-11-29 - 6Back Bay - 2018-12-03 - 2Back Bay - 2018-12-03 - 7Back Bay - 2018-11-26 - 12Back Bay - 2018-12-14 - 14Back Bay - 2018-11-30 - 6Back Bay - 2018-11-28 - 20Back Bay - 2018-11-27 - 4Back Bay - 2018-11-30 - 2Back Bay - 2018-11-26 - 23Back Bay - 2018-11-27 - 10Back Bay - 2018-11-27 - 14Back Bay - 2018-12-01 - 17Back Bay - 2018-12-18 - 4Back Bay - 2018-12-14 - 7Back Bay - 2018-12-15 - 18Back Bay - 2018-12-13 - 3Back Bay - 2018-11-29 - 6Back Bay - 2018-11-28 - 8Back Bay - 2018-11-29 - 21Back Bay - 2018-11-27 - 23Back Bay - 2018-12-03 - 23Back Bay - 2018-11-29 - 1Back Bay - 2018-12-18 - 5Back Bay - 2018-12-17 - 0Back Bay - 2018-11-27 - 2Back Bay - 2018-11-28 - 7Back Bay - 2018-12-16 - 7Back Bay - 2018-11-27 - 22Back Bay - 2018-11-26 - 7Back Bay - 2018-12-13 - 12Back Bay - 2018-12-14 - 23Back Bay - 2018-12-15 - 8Back Bay - 2018-11-30 - 8Back Bay - 2018-11-28 - 22Back Bay - 2018-12-01 - 4Back Bay - 2018-12-10 - 1Back Bay - 2018-12-18 - 16Back Bay - 2018-11-28 - 12Back Bay - 2018-11-27 - 1Back Bay - 2018-12-04 - 1Back Bay - 2018-11-27 - 0Back Bay - 2018-11-27 - 22Back Bay - 2018-12-02 - 6Back Bay - 2018-12-02 - 16Back Bay - 2018-12-14 - 13Back Bay - 2018-12-15 - 7Back Bay - 2018-11-28 - 10Back Bay - 2018-11-29 - 21Back Bay - 2018-12-03 - 4Back Bay - 2018-12-15 - 6Back Bay - 2018-11-30 - 0Back Bay - 2018-11-27 - 8Back Bay - 2018-11-30 - 7Back Bay - 2018-11-26 - 5Back Bay - 2018-12-15 - 15Back Bay - 2018-12-16 - 15Back Bay - 2018-11-27 - 19Back Bay - 2018-11-28 - 15Back Bay - 2018-11-29 - 18Back Bay - 2018-11-26 - 21Back Bay - 2018-11-26 - 3Back Bay - 2018-11-29 - 0Back Bay - 2018-11-28 - 21Back Bay - 2018-12-03 - 15Back Bay - 2018-12-02 - 18Back Bay - 2018-12-16 - 18Back Bay - 2018-12-03 - 8Back Bay - 2018-11-27 - 13Back Bay - 2018-12-17 - 2Back Bay - 2018-11-27 - 16Back Bay - 2018-11-27 - 14Back Bay - 2018-11-28 - 7Back Bay - 2018-12-15 - 1Back Bay - 2018-11-27 - 20Back Bay - 2018-12-02 - 19Back Bay - 2018-12-01 - 13Back Bay - 2018-11-27 - 6Back Bay - 2018-11-30 - 19Back Bay - 2018-11-26 - 6Back Bay - 2018-11-27 - 9Back Bay - 2018-12-18 - 14Back Bay - 2018-12-16 - 10Back Bay - 2018-12-03 - 21Back Bay - 2018-12-04 - 2Back Bay - 2018-12-16 - 9Back Bay - 2018-12-16 - 4Back Bay - 2018-11-29 - 21Back Bay - 2018-12-14 - 12Back Bay - 2018-11-26 - 15Back Bay - 2018-12-02 - 1Back Bay - 2018-11-29 - 6Back Bay - 2018-11-29 - 7Back Bay - 2018-11-29 - 17Back Bay - 2018-11-28 - 18Back Bay - 2018-12-18 - 1Back Bay - 2018-11-26 - 5Back Bay - 2018-11-28 - 8Back Bay - 2018-12-14 - 15Back Bay - 2018-12-17 - 21Back Bay - 2018-11-29 - 4Back Bay - 2018-12-17 - 3Back Bay - 2018-11-26 - 22Back Bay - 2018-11-28 - 9Back Bay - 2018-11-26 - 4Back Bay - 2018-11-29 - 1Back Bay - 2018-11-28 - 21Back Bay - 2018-12-17 - 19Back Bay - 2018-12-15 - 23Back Bay - 2018-11-27 - 21Back Bay - 2018-11-27 - 3Back Bay - 2018-11-30 - 3Back Bay - 2018-12-18 - 15Back Bay - 2018-11-26 - 6Back Bay - 2018-11-28 - 15Back Bay - 2018-11-27 - 17Back Bay - 2018-11-29 - 2Back Bay - 2018-12-13 - 16Back Bay - 2018-11-26 - 9Back Bay - 2018-11-28 - 7Back Bay - 2018-11-28 - 16Back Bay - 2018-12-13 - 4Back Bay - 2018-11-28 - 23Back Bay - 2018-12-18 - 0Back Bay - 2018-12-15 - 13Back Bay - 2018-12-01 - 12Back Bay - 2018-11-29 - 0Back Bay - 2018-11-28 - 23Back Bay - 2018-11-28 - 11Back Bay - 2018-12-03 - 13Back Bay - 2018-11-29 - 1Back Bay - 2018-11-27 - 4Back Bay - 2018-11-26 - 7Back Bay - 2018-11-26 - 6Back Bay - 2018-12-16 - 6Back Bay - 2018-11-29 - 20Back Bay - 2018-12-14 - 10Back Bay - 2018-11-28 - 17Back Bay - 2018-12-14 - 5Back Bay - 2018-12-15 - 2Back Bay - 2018-12-10 - 2Back Bay - 2018-11-27 - 0Back Bay - 2018-12-01 - 7Back Bay - 2018-11-29 - 1Back Bay - 2018-11-29 - 2Back Bay - 2018-12-02 - 5Back Bay - 2018-11-27 - 23Back Bay - 2018-11-30 - 4Back Bay - 2018-11-29 - 6Back Bay - 2018-11-28 - 14Back Bay - 2018-11-29 - 3Back Bay - 2018-12-04 - 5Back Bay - 2018-12-15 - 0Back Bay - 2018-11-26 - 6Back Bay - 2018-11-29 - 4Back Bay - 2018-11-26 - 20Back Bay - 2018-12-02 - 0Back Bay - 2018-12-04 - 3Back Bay - 2018-12-10 - 2Back Bay - 2018-11-27 - 0Back Bay - 2018-12-03 - 14Back Bay - 2018-12-13 - 10Back Bay - 2018-12-16 - 12Back Bay - 2018-11-27 - 5Back Bay - 2018-12-02 - 12Back Bay - 2018-11-26 - 14Back Bay - 2018-12-01 - 2Back Bay - 2018-11-26 - 5Back Bay - 2018-11-26 - 10Back Bay - 2018-11-26 - 22Back Bay - 2018-12-18 - 3Back Bay - 2018-11-28 - 23Back Bay - 2018-11-26 - 6Back Bay - 2018-11-30 - 21Back Bay - 2018-11-29 - 1Back Bay - 2018-11-27 - 12Back Bay - 2018-12-03 - 16Back Bay - 2018-11-26 - 12Back Bay - 2018-11-26 - 6Back Bay - 2018-12-17 - 7Back Bay - 2018-11-26 - 15Back Bay - 2018-11-27 - 0Back Bay - 2018-11-27 - 21Back Bay - 2018-12-14 - 22Back Bay - 2018-11-28 - 9Back Bay - 2018-11-28 - 10Back Bay - 2018-11-27 - 1Back Bay - 2018-12-15 - 3Back Bay - 2018-12-02 - 9Back Bay - 2018-12-04 - 4Back Bay - 2018-12-14 - 1Back Bay - 2018-11-28 - 8Back Bay - 2018-11-26 - 6Back Bay - 2018-11-28 - 7Back Bay - 2018-12-01 - 1Back Bay - 2018-12-17 - 8Back Bay - 2018-11-26 - 22Back Bay - 2018-11-29 - 6Back Bay - 2018-11-28 - 14Back Bay - 2018-11-27 - 2Back Bay - 2018-12-02 - 13Back Bay - 2018-11-26 - 4Back Bay - 2018-11-26 - 4Back Bay - 2018-12-14 - 17Back Bay - 2018-11-28 - 7Back Bay - 2018-11-30 - 12Back Bay - 2018-12-18 - 6Back Bay - 2018-12-18 - 12Back Bay - 2018-12-16 - 22Back Bay - 2018-12-02 - 10Back Bay - 2018-12-15 - 19Back Bay - 2018-11-28 - 22Back Bay - 2018-11-28 - 9Back Bay - 2018-12-01 - 10Back Bay - 2018-11-29 - 23Back Bay - 2018-12-09 - 23Back Bay - 2018-12-03 - 22Back Bay - 2018-12-14 - 3Back Bay - 2018-12-15 - 20Back Bay - 2018-11-29 - 2Back Bay - 2018-11-27 - 18Back Bay - 2018-11-28 - 13Back Bay - 2018-12-14 - 2Back Bay - 2018-11-29 - 4Back Bay - 2018-12-17 - 14Back Bay - 2018-12-04 - 0Back Bay - 2018-12-13 - 22Back Bay - 2018-12-14 - 0Back Bay - 2018-12-01 - 2Back Bay - 2018-12-14 - 21Back Bay - 2018-11-28 - 8Back Bay - 2018-11-26 - 13Back Bay - 2018-11-26 - 8Back Bay - 2018-12-16 - 11Back Bay - 2018-11-28 - 9Back Bay - 2018-11-28 - 15Back Bay - 2018-11-26 - 11Back Bay - 2018-12-15 - 12Back Bay - 2018-11-29 - 0Back Bay - 2018-12-18 - 13Back Bay - 2018-11-29 - 12Back Bay - 2018-11-28 - 21Back Bay - 2018-11-27 - 15Back Bay - 2018-12-03 - 3Back Bay - 2018-11-29 - 11Back Bay - 2018-11-28 - 9Back Bay - 2018-11-28 - 7Back Bay - 2018-11-30 - 10Back Bay - 2018-11-28 - 0Back Bay - 2018-12-18 - 9Back Bay - 2018-12-02 - 22Back Bay - 2018-11-30 - 11Back Bay - 2018-12-01 - 9Back Bay - 2018-12-02 - 11Back Bay - 2018-12-03 - 6' to numeric",
      "\nThe above exception was the direct cause of the following exception:\n",
      "\u001b[1;31mTypeError\u001b[0m                                 Traceback (most recent call last)",
      "Cell \u001b[1;32mIn[18], line 1\u001b[0m\n\u001b[1;32m----> 1\u001b[0m \u001b[43mweather_data\u001b[49m\u001b[38;5;241;43m.\u001b[39;49m\u001b[43mgroupby\u001b[49m\u001b[43m(\u001b[49m\u001b[38;5;124;43m'\u001b[39;49m\u001b[38;5;124;43mlocation\u001b[39;49m\u001b[38;5;124;43m'\u001b[39;49m\u001b[43m)\u001b[49m\u001b[38;5;241;43m.\u001b[39;49m\u001b[43mmean\u001b[49m\u001b[43m(\u001b[49m\u001b[43m)\u001b[49m\n",
      "File \u001b[1;32md:\\pythonProjects\\SurgeSense\\venv\\lib\\site-packages\\pandas\\core\\groupby\\groupby.py:2452\u001b[0m, in \u001b[0;36mGroupBy.mean\u001b[1;34m(self, numeric_only, engine, engine_kwargs)\u001b[0m\n\u001b[0;32m   2445\u001b[0m     \u001b[38;5;28;01mreturn\u001b[39;00m \u001b[38;5;28mself\u001b[39m\u001b[38;5;241m.\u001b[39m_numba_agg_general(\n\u001b[0;32m   2446\u001b[0m         grouped_mean,\n\u001b[0;32m   2447\u001b[0m         executor\u001b[38;5;241m.\u001b[39mfloat_dtype_mapping,\n\u001b[0;32m   2448\u001b[0m         engine_kwargs,\n\u001b[0;32m   2449\u001b[0m         min_periods\u001b[38;5;241m=\u001b[39m\u001b[38;5;241m0\u001b[39m,\n\u001b[0;32m   2450\u001b[0m     )\n\u001b[0;32m   2451\u001b[0m \u001b[38;5;28;01melse\u001b[39;00m:\n\u001b[1;32m-> 2452\u001b[0m     result \u001b[38;5;241m=\u001b[39m \u001b[38;5;28;43mself\u001b[39;49m\u001b[38;5;241;43m.\u001b[39;49m\u001b[43m_cython_agg_general\u001b[49m\u001b[43m(\u001b[49m\n\u001b[0;32m   2453\u001b[0m \u001b[43m        \u001b[49m\u001b[38;5;124;43m\"\u001b[39;49m\u001b[38;5;124;43mmean\u001b[39;49m\u001b[38;5;124;43m\"\u001b[39;49m\u001b[43m,\u001b[49m\n\u001b[0;32m   2454\u001b[0m \u001b[43m        \u001b[49m\u001b[43malt\u001b[49m\u001b[38;5;241;43m=\u001b[39;49m\u001b[38;5;28;43;01mlambda\u001b[39;49;00m\u001b[43m \u001b[49m\u001b[43mx\u001b[49m\u001b[43m:\u001b[49m\u001b[43m \u001b[49m\u001b[43mSeries\u001b[49m\u001b[43m(\u001b[49m\u001b[43mx\u001b[49m\u001b[43m,\u001b[49m\u001b[43m \u001b[49m\u001b[43mcopy\u001b[49m\u001b[38;5;241;43m=\u001b[39;49m\u001b[38;5;28;43;01mFalse\u001b[39;49;00m\u001b[43m)\u001b[49m\u001b[38;5;241;43m.\u001b[39;49m\u001b[43mmean\u001b[49m\u001b[43m(\u001b[49m\u001b[43mnumeric_only\u001b[49m\u001b[38;5;241;43m=\u001b[39;49m\u001b[43mnumeric_only\u001b[49m\u001b[43m)\u001b[49m\u001b[43m,\u001b[49m\n\u001b[0;32m   2455\u001b[0m \u001b[43m        \u001b[49m\u001b[43mnumeric_only\u001b[49m\u001b[38;5;241;43m=\u001b[39;49m\u001b[43mnumeric_only\u001b[49m\u001b[43m,\u001b[49m\n\u001b[0;32m   2456\u001b[0m \u001b[43m    \u001b[49m\u001b[43m)\u001b[49m\n\u001b[0;32m   2457\u001b[0m     \u001b[38;5;28;01mreturn\u001b[39;00m result\u001b[38;5;241m.\u001b[39m__finalize__(\u001b[38;5;28mself\u001b[39m\u001b[38;5;241m.\u001b[39mobj, method\u001b[38;5;241m=\u001b[39m\u001b[38;5;124m\"\u001b[39m\u001b[38;5;124mgroupby\u001b[39m\u001b[38;5;124m\"\u001b[39m)\n",
      "File \u001b[1;32md:\\pythonProjects\\SurgeSense\\venv\\lib\\site-packages\\pandas\\core\\groupby\\groupby.py:1998\u001b[0m, in \u001b[0;36mGroupBy._cython_agg_general\u001b[1;34m(self, how, alt, numeric_only, min_count, **kwargs)\u001b[0m\n\u001b[0;32m   1995\u001b[0m     result \u001b[38;5;241m=\u001b[39m \u001b[38;5;28mself\u001b[39m\u001b[38;5;241m.\u001b[39m_agg_py_fallback(how, values, ndim\u001b[38;5;241m=\u001b[39mdata\u001b[38;5;241m.\u001b[39mndim, alt\u001b[38;5;241m=\u001b[39malt)\n\u001b[0;32m   1996\u001b[0m     \u001b[38;5;28;01mreturn\u001b[39;00m result\n\u001b[1;32m-> 1998\u001b[0m new_mgr \u001b[38;5;241m=\u001b[39m \u001b[43mdata\u001b[49m\u001b[38;5;241;43m.\u001b[39;49m\u001b[43mgrouped_reduce\u001b[49m\u001b[43m(\u001b[49m\u001b[43marray_func\u001b[49m\u001b[43m)\u001b[49m\n\u001b[0;32m   1999\u001b[0m res \u001b[38;5;241m=\u001b[39m \u001b[38;5;28mself\u001b[39m\u001b[38;5;241m.\u001b[39m_wrap_agged_manager(new_mgr)\n\u001b[0;32m   2000\u001b[0m \u001b[38;5;28;01mif\u001b[39;00m how \u001b[38;5;129;01min\u001b[39;00m [\u001b[38;5;124m\"\u001b[39m\u001b[38;5;124midxmin\u001b[39m\u001b[38;5;124m\"\u001b[39m, \u001b[38;5;124m\"\u001b[39m\u001b[38;5;124midxmax\u001b[39m\u001b[38;5;124m\"\u001b[39m]:\n",
      "File \u001b[1;32md:\\pythonProjects\\SurgeSense\\venv\\lib\\site-packages\\pandas\\core\\internals\\managers.py:1469\u001b[0m, in \u001b[0;36mBlockManager.grouped_reduce\u001b[1;34m(self, func)\u001b[0m\n\u001b[0;32m   1465\u001b[0m \u001b[38;5;28;01mif\u001b[39;00m blk\u001b[38;5;241m.\u001b[39mis_object:\n\u001b[0;32m   1466\u001b[0m     \u001b[38;5;66;03m# split on object-dtype blocks bc some columns may raise\u001b[39;00m\n\u001b[0;32m   1467\u001b[0m     \u001b[38;5;66;03m#  while others do not.\u001b[39;00m\n\u001b[0;32m   1468\u001b[0m     \u001b[38;5;28;01mfor\u001b[39;00m sb \u001b[38;5;129;01min\u001b[39;00m blk\u001b[38;5;241m.\u001b[39m_split():\n\u001b[1;32m-> 1469\u001b[0m         applied \u001b[38;5;241m=\u001b[39m \u001b[43msb\u001b[49m\u001b[38;5;241;43m.\u001b[39;49m\u001b[43mapply\u001b[49m\u001b[43m(\u001b[49m\u001b[43mfunc\u001b[49m\u001b[43m)\u001b[49m\n\u001b[0;32m   1470\u001b[0m         result_blocks \u001b[38;5;241m=\u001b[39m extend_blocks(applied, result_blocks)\n\u001b[0;32m   1471\u001b[0m \u001b[38;5;28;01melse\u001b[39;00m:\n",
      "File \u001b[1;32md:\\pythonProjects\\SurgeSense\\venv\\lib\\site-packages\\pandas\\core\\internals\\blocks.py:393\u001b[0m, in \u001b[0;36mBlock.apply\u001b[1;34m(self, func, **kwargs)\u001b[0m\n\u001b[0;32m    387\u001b[0m \u001b[38;5;129m@final\u001b[39m\n\u001b[0;32m    388\u001b[0m \u001b[38;5;28;01mdef\u001b[39;00m\u001b[38;5;250m \u001b[39m\u001b[38;5;21mapply\u001b[39m(\u001b[38;5;28mself\u001b[39m, func, \u001b[38;5;241m*\u001b[39m\u001b[38;5;241m*\u001b[39mkwargs) \u001b[38;5;241m-\u001b[39m\u001b[38;5;241m>\u001b[39m \u001b[38;5;28mlist\u001b[39m[Block]:\n\u001b[0;32m    389\u001b[0m \u001b[38;5;250m    \u001b[39m\u001b[38;5;124;03m\"\"\"\u001b[39;00m\n\u001b[0;32m    390\u001b[0m \u001b[38;5;124;03m    apply the function to my values; return a block if we are not\u001b[39;00m\n\u001b[0;32m    391\u001b[0m \u001b[38;5;124;03m    one\u001b[39;00m\n\u001b[0;32m    392\u001b[0m \u001b[38;5;124;03m    \"\"\"\u001b[39;00m\n\u001b[1;32m--> 393\u001b[0m     result \u001b[38;5;241m=\u001b[39m func(\u001b[38;5;28mself\u001b[39m\u001b[38;5;241m.\u001b[39mvalues, \u001b[38;5;241m*\u001b[39m\u001b[38;5;241m*\u001b[39mkwargs)\n\u001b[0;32m    395\u001b[0m     result \u001b[38;5;241m=\u001b[39m maybe_coerce_values(result)\n\u001b[0;32m    396\u001b[0m     \u001b[38;5;28;01mreturn\u001b[39;00m \u001b[38;5;28mself\u001b[39m\u001b[38;5;241m.\u001b[39m_split_op_result(result)\n",
      "File \u001b[1;32md:\\pythonProjects\\SurgeSense\\venv\\lib\\site-packages\\pandas\\core\\groupby\\groupby.py:1995\u001b[0m, in \u001b[0;36mGroupBy._cython_agg_general.<locals>.array_func\u001b[1;34m(values)\u001b[0m\n\u001b[0;32m   1992\u001b[0m     \u001b[38;5;28;01mreturn\u001b[39;00m result\n\u001b[0;32m   1994\u001b[0m \u001b[38;5;28;01massert\u001b[39;00m alt \u001b[38;5;129;01mis\u001b[39;00m \u001b[38;5;129;01mnot\u001b[39;00m \u001b[38;5;28;01mNone\u001b[39;00m\n\u001b[1;32m-> 1995\u001b[0m result \u001b[38;5;241m=\u001b[39m \u001b[38;5;28;43mself\u001b[39;49m\u001b[38;5;241;43m.\u001b[39;49m\u001b[43m_agg_py_fallback\u001b[49m\u001b[43m(\u001b[49m\u001b[43mhow\u001b[49m\u001b[43m,\u001b[49m\u001b[43m \u001b[49m\u001b[43mvalues\u001b[49m\u001b[43m,\u001b[49m\u001b[43m \u001b[49m\u001b[43mndim\u001b[49m\u001b[38;5;241;43m=\u001b[39;49m\u001b[43mdata\u001b[49m\u001b[38;5;241;43m.\u001b[39;49m\u001b[43mndim\u001b[49m\u001b[43m,\u001b[49m\u001b[43m \u001b[49m\u001b[43malt\u001b[49m\u001b[38;5;241;43m=\u001b[39;49m\u001b[43malt\u001b[49m\u001b[43m)\u001b[49m\n\u001b[0;32m   1996\u001b[0m \u001b[38;5;28;01mreturn\u001b[39;00m result\n",
      "File \u001b[1;32md:\\pythonProjects\\SurgeSense\\venv\\lib\\site-packages\\pandas\\core\\groupby\\groupby.py:1946\u001b[0m, in \u001b[0;36mGroupBy._agg_py_fallback\u001b[1;34m(self, how, values, ndim, alt)\u001b[0m\n\u001b[0;32m   1944\u001b[0m     msg \u001b[38;5;241m=\u001b[39m \u001b[38;5;124mf\u001b[39m\u001b[38;5;124m\"\u001b[39m\u001b[38;5;124magg function failed [how->\u001b[39m\u001b[38;5;132;01m{\u001b[39;00mhow\u001b[38;5;132;01m}\u001b[39;00m\u001b[38;5;124m,dtype->\u001b[39m\u001b[38;5;132;01m{\u001b[39;00mser\u001b[38;5;241m.\u001b[39mdtype\u001b[38;5;132;01m}\u001b[39;00m\u001b[38;5;124m]\u001b[39m\u001b[38;5;124m\"\u001b[39m\n\u001b[0;32m   1945\u001b[0m     \u001b[38;5;66;03m# preserve the kind of exception that raised\u001b[39;00m\n\u001b[1;32m-> 1946\u001b[0m     \u001b[38;5;28;01mraise\u001b[39;00m \u001b[38;5;28mtype\u001b[39m(err)(msg) \u001b[38;5;28;01mfrom\u001b[39;00m\u001b[38;5;250m \u001b[39m\u001b[38;5;21;01merr\u001b[39;00m\n\u001b[0;32m   1948\u001b[0m \u001b[38;5;28;01mif\u001b[39;00m ser\u001b[38;5;241m.\u001b[39mdtype \u001b[38;5;241m==\u001b[39m \u001b[38;5;28mobject\u001b[39m:\n\u001b[0;32m   1949\u001b[0m     res_values \u001b[38;5;241m=\u001b[39m res_values\u001b[38;5;241m.\u001b[39mastype(\u001b[38;5;28mobject\u001b[39m, copy\u001b[38;5;241m=\u001b[39m\u001b[38;5;28;01mFalse\u001b[39;00m)\n",
      "\u001b[1;31mTypeError\u001b[0m: agg function failed [how->mean,dtype->object]"
     ]
    }
   ],
   "source": [
    "weather_data.groupby('location').mean()"
   ]
  },
  {
   "cell_type": "code",
   "execution_count": null,
   "metadata": {},
   "outputs": [],
   "source": []
  }
 ],
 "metadata": {
  "kernelspec": {
   "display_name": "Python 3",
   "language": "python",
   "name": "python3"
  },
  "language_info": {
   "codemirror_mode": {
    "name": "ipython",
    "version": 3
   },
   "file_extension": ".py",
   "mimetype": "text/x-python",
   "name": "python",
   "nbconvert_exporter": "python",
   "pygments_lexer": "ipython3",
   "version": "3.10.0"
  }
 },
 "nbformat": 4,
 "nbformat_minor": 2
}

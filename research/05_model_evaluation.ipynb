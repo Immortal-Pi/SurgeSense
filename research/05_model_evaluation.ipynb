{
 "cells": [
  {
   "cell_type": "code",
   "execution_count": 1,
   "metadata": {},
   "outputs": [],
   "source": [
    "import os"
   ]
  },
  {
   "cell_type": "code",
   "execution_count": 2,
   "metadata": {},
   "outputs": [
    {
     "data": {
      "text/plain": [
       "'d:\\\\pythonProjects\\\\SurgeSense\\\\research'"
      ]
     },
     "execution_count": 2,
     "metadata": {},
     "output_type": "execute_result"
    }
   ],
   "source": [
    "%pwd"
   ]
  },
  {
   "cell_type": "code",
   "execution_count": 3,
   "metadata": {},
   "outputs": [
    {
     "data": {
      "text/plain": [
       "'d:\\\\pythonProjects\\\\SurgeSense'"
      ]
     },
     "execution_count": 3,
     "metadata": {},
     "output_type": "execute_result"
    }
   ],
   "source": [
    "os.chdir('../')\n",
    "%pwd "
   ]
  },
  {
   "cell_type": "code",
   "execution_count": 4,
   "metadata": {},
   "outputs": [],
   "source": [
    "# entity \n",
    "from dataclasses import dataclass\n",
    "from pathlib import Path \n",
    "\n",
    "@dataclass(frozen=True)\n",
    "class ModelEvaluationConfig:\n",
    "    root_dir: Path \n",
    "    test_data_path: Path \n",
    "    model_path: Path \n",
    "    all_params: dict \n",
    "    metric_file_name: Path \n",
    "    target_column: str \n",
    "    repo_owner: str \n",
    "    repo_name: str \n",
    "    "
   ]
  },
  {
   "cell_type": "code",
   "execution_count": 5,
   "metadata": {},
   "outputs": [],
   "source": [
    "# cofig \n",
    "from SurgeSense.constants import * \n",
    "from SurgeSense.utils.common import read_yaml, create_directories, save_json\n",
    "\n",
    "class ConfigurationManager:\n",
    "    def __init__(self,\n",
    "                 config_filepath=CONFIG_FILE_PATH,\n",
    "                 params_filepath=PARAMS_FILE_PATH,\n",
    "                 schema_filepath=SCHEMA_FILE_PATH):\n",
    "        self.config=read_yaml(config_filepath)\n",
    "        self.params=read_yaml(params_filepath)\n",
    "        self.schema=read_yaml(schema_filepath)\n",
    "        create_directories([self.config.artifacts_root])\n",
    "\n",
    "    def get_model_evaluation_config(self)->ModelEvaluationConfig:\n",
    "        config=self.config.model_evaluation\n",
    "        params=self.params.select_model\n",
    "        schema=self.schema.TARGET_COLUMN\n",
    "        mlflow_tracking=self.config.mlflow_tracking\n",
    "        create_directories([config.root_dir])\n",
    "\n",
    "\n",
    "        model_evlution_config=ModelEvaluationConfig(\n",
    "            root_dir=config.root_dir,\n",
    "            test_data_path=config.test_data_path,\n",
    "            model_path=config.model_path,\n",
    "            all_params=params,\n",
    "            metric_file_name=config.metric_file_name,\n",
    "            target_column=schema.name,\n",
    "            repo_owner=mlflow_tracking.repo_owner,\n",
    "            repo_name=mlflow_tracking.repo_name\n",
    "        )\n",
    "\n",
    "        return model_evlution_config\n"
   ]
  },
  {
   "cell_type": "code",
   "execution_count": 10,
   "metadata": {},
   "outputs": [],
   "source": [
    "# components \n",
    "import  os \n",
    "import pandas as pd \n",
    "from sklearn.metrics import mean_absolute_error, mean_squared_error,r2_score\n",
    "from urllib.parse import urlparse\n",
    "import mlflow \n",
    "import mlflow.sklearn \n",
    "import numpy as np \n",
    "import joblib \n",
    "import dagshub \n",
    "\n",
    "\n",
    "class ModelEvaluation:\n",
    "    def __init__(self, config: ModelEvaluationConfig):\n",
    "        self.config=config\n",
    "\n",
    "    def eval_metrics(self,actual,pred):\n",
    "        rmse=np.sqrt(mean_squared_error(actual,pred))\n",
    "        mae=mean_squared_error(actual,pred)\n",
    "        r2=r2_score(actual,pred)\n",
    "        return rmse,mae,r2 \n",
    "    \n",
    "    def log_into_mlflow(self):\n",
    "        test_data=pd.read_csv(self.config.test_data_path)\n",
    "        model=joblib.load(self.config.model_path)\n",
    "\n",
    "        test_x=test_data.drop([self.config.target_column],axis=1)\n",
    "        test_y=test_data[[self.config.target_column]]\n",
    "\n",
    "        dagshub.init(repo_name=self.config.repo_name, repo_owner=self.config.repo_owner,mlflow=True)\n",
    "        tracking_uri_type_store=urlparse(mlflow.get_registry_uri()).scheme\n",
    "\n",
    "        with mlflow.start_run():\n",
    "            predicted_quantities=model.predict(test_x)\n",
    "            (rmse,mae,r2)=self.eval_metrics(test_y,predicted_quantities)\n",
    "\n",
    "            # saving metrics as local \n",
    "            score={'rmse':rmse, 'r2_score':r2, 'mae':mae}\n",
    "            save_json(path=Path(self.config.metric_file_name),data=score)\n",
    "\n",
    "            mlflow.log_params(self.config.all_params)\n",
    "            mlflow.log_metrics(score)\n",
    "\n",
    "            # if tracking_uri_type_store!='file':\n",
    "            #     if self.config.all_params.algo=='XGBoostRegressor':\n",
    "            #         mlflow.xgboost.log_model(model,'model',registered_model_name='XGBoostRegressor')\n",
    "            #     elif self.config.all_params.algo=='GRADIENT_BOOSTING':\n",
    "            #         mlflow.sklearn.log_model(model,'model',registered_model_name='GRADIENT_BOOSTING')\n",
    "            #     elif self.config.all_params.algo=='RANDOM_FOREST':\n",
    "            #         mlflow.sklearn.log_model(model,'model',registered_model_name='RANDOM_FOREST')\n",
    "                    \n"
   ]
  },
  {
   "cell_type": "code",
   "execution_count": 13,
   "metadata": {},
   "outputs": [
    {
     "name": "stdout",
     "output_type": "stream",
     "text": [
      "[2025-03-23 13:06:45,357: INFO :common : yaml file: config\\config.yaml loaded successfully]\n",
      "[2025-03-23 13:06:45,361: INFO :common : yaml file: params.yaml loaded successfully]\n",
      "[2025-03-23 13:06:45,365: INFO :common : yaml file: schema.yaml loaded successfully]\n",
      "[2025-03-23 13:06:45,367: INFO :common : created directory at: artifacts]\n",
      "[2025-03-23 13:06:45,368: INFO :common : created directory at: artifacts/model_evaluation]\n",
      "[2025-03-23 13:06:46,290: INFO :_client : HTTP Request: GET https://dagshub.com/api/v1/repos/Immortal-Pi/SurgeSense \"HTTP/1.1 200 OK\"]\n"
     ]
    },
    {
     "data": {
      "text/html": [
       "<pre style=\"white-space:pre;overflow-x:auto;line-height:normal;font-family:Menlo,'DejaVu Sans Mono',consolas,'Courier New',monospace\">Initialized MLflow to track repo <span style=\"color: #008000; text-decoration-color: #008000\">\"Immortal-Pi/SurgeSense\"</span>\n",
       "</pre>\n"
      ],
      "text/plain": [
       "Initialized MLflow to track repo \u001b[32m\"Immortal-Pi/SurgeSense\"\u001b[0m\n"
      ]
     },
     "metadata": {},
     "output_type": "display_data"
    },
    {
     "name": "stdout",
     "output_type": "stream",
     "text": [
      "[2025-03-23 13:06:46,296: INFO :helpers : Initialized MLflow to track repo \"Immortal-Pi/SurgeSense\"]\n"
     ]
    },
    {
     "data": {
      "text/html": [
       "<pre style=\"white-space:pre;overflow-x:auto;line-height:normal;font-family:Menlo,'DejaVu Sans Mono',consolas,'Courier New',monospace\">Repository Immortal-Pi/SurgeSense initialized!\n",
       "</pre>\n"
      ],
      "text/plain": [
       "Repository Immortal-Pi/SurgeSense initialized!\n"
      ]
     },
     "metadata": {},
     "output_type": "display_data"
    },
    {
     "name": "stdout",
     "output_type": "stream",
     "text": [
      "[2025-03-23 13:06:46,298: INFO :helpers : Repository Immortal-Pi/SurgeSense initialized!]\n",
      "[2025-03-23 13:06:46,956: INFO :common : json file saved at: artifacts\\model_evaluation\\metrics.json]\n",
      "🏃 View run upset-bass-818 at: https://dagshub.com/Immortal-Pi/SurgeSense.mlflow/#/experiments/0/runs/69c0a87b14c44556a1f3dd0327c2e0ce\n",
      "🧪 View experiment at: https://dagshub.com/Immortal-Pi/SurgeSense.mlflow/#/experiments/0\n"
     ]
    }
   ],
   "source": [
    "# pipeline \n",
    "try: \n",
    "    config=ConfigurationManager()\n",
    "    model_evaluation_config=config.get_model_evaluation_config()\n",
    "    model_evaluation=ModelEvaluation(config=model_evaluation_config)\n",
    "    model_evaluation.log_into_mlflow()\n",
    "except Exception as e:\n",
    "    raise e"
   ]
  },
  {
   "cell_type": "code",
   "execution_count": null,
   "metadata": {},
   "outputs": [],
   "source": []
  }
 ],
 "metadata": {
  "kernelspec": {
   "display_name": "Python 3",
   "language": "python",
   "name": "python3"
  },
  "language_info": {
   "codemirror_mode": {
    "name": "ipython",
    "version": 3
   },
   "file_extension": ".py",
   "mimetype": "text/x-python",
   "name": "python",
   "nbconvert_exporter": "python",
   "pygments_lexer": "ipython3",
   "version": "3.10.0"
  }
 },
 "nbformat": 4,
 "nbformat_minor": 2
}

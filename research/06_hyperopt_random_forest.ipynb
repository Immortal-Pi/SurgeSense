{
 "cells": [
  {
   "cell_type": "markdown",
   "metadata": {},
   "source": [
    "# testing the best model"
   ]
  },
  {
   "cell_type": "code",
   "execution_count": 1,
   "metadata": {},
   "outputs": [],
   "source": [
    "import os \n",
    "import pandas as pd \n",
    "from sklearn.model_selection import train_test_split\n",
    "from sklearn.metrics import accuracy_score, mean_absolute_error,r2_score,mean_squared_error\n",
    "from sklearn.ensemble import RandomForestRegressor, GradientBoostingRegressor\n",
    "from xgboost import XGBRegressor\n",
    "from urllib.parse import urlparse\n",
    "import mlflow \n",
    "import mlflow.sklearn\n",
    "import numpy as np\n",
    "from SurgeSense.constants import * \n",
    "from SurgeSense.utils.common import read_yaml, create_directories"
   ]
  },
  {
   "cell_type": "code",
   "execution_count": 2,
   "metadata": {},
   "outputs": [
    {
     "data": {
      "text/plain": [
       "'d:\\\\pythonProjects\\\\SurgeSense\\\\research'"
      ]
     },
     "execution_count": 2,
     "metadata": {},
     "output_type": "execute_result"
    }
   ],
   "source": [
    "%pwd "
   ]
  },
  {
   "cell_type": "code",
   "execution_count": 3,
   "metadata": {},
   "outputs": [
    {
     "data": {
      "text/plain": [
       "'d:\\\\pythonProjects\\\\SurgeSense'"
      ]
     },
     "execution_count": 3,
     "metadata": {},
     "output_type": "execute_result"
    }
   ],
   "source": [
    "import os \n",
    "os.chdir('../')\n",
    "%pwd"
   ]
  },
  {
   "cell_type": "code",
   "execution_count": 4,
   "metadata": {},
   "outputs": [],
   "source": [
    "def evaluation_metrics(actual,pred):\n",
    "    rmse=np.sqrt(mean_squared_error(actual,pred))\n",
    "    mae=mean_absolute_error(actual,pred)\n",
    "    r2=r2_score(actual,pred)\n",
    "    return rmse, mae, r2 "
   ]
  },
  {
   "cell_type": "code",
   "execution_count": 5,
   "metadata": {},
   "outputs": [
    {
     "name": "stdout",
     "output_type": "stream",
     "text": [
      "[2025-03-23 22:17:02,028: INFO :common : yaml file: config\\config.yaml loaded successfully]\n",
      "[2025-03-23 22:17:02,040: INFO :common : yaml file: params.yaml loaded successfully]\n"
     ]
    }
   ],
   "source": [
    "config=read_yaml(CONFIG_FILE_PATH)\n",
    "params=read_yaml(PARAMS_FILE_PATH)\n"
   ]
  },
  {
   "cell_type": "code",
   "execution_count": 6,
   "metadata": {},
   "outputs": [],
   "source": [
    "from dataclasses import dataclass\n",
    "\n",
    "@dataclass(frozen=True)\n",
    "class HyperOptParams:\n",
    "    root_dir: Path\n",
    "    train_data_path: Path \n",
    "    test_data_path: Path\n",
    "    model_name: str\n",
    "    n_estimators: list \n",
    "    max_depth: list \n",
    "    min_samples_split: int \n",
    "    target_column: str"
   ]
  },
  {
   "cell_type": "code",
   "execution_count": 7,
   "metadata": {},
   "outputs": [],
   "source": [
    "# configuration \n",
    "class HyperOptParamsConfigManager:\n",
    "    def __init__(\n",
    "            self,\n",
    "            config_file_path=CONFIG_FILE_PATH,\n",
    "            params_file_path=PARAMS_FILE_PATH,\n",
    "            schema_file_path=SCHEMA_FILE_PATH,\n",
    "            ):\n",
    "        self.config=read_yaml(config_file_path)\n",
    "        self.params=read_yaml(params_file_path)\n",
    "        self.schema=read_yaml(schema_file_path)\n",
    "    \n",
    "    def get_hyperopt_config(self)->HyperOptParams:\n",
    "        config=self.config.model_trainer \n",
    "        params=self.params.Hyperopt_params.RANDOM_FOREST\n",
    "        schema=self.schema.TARGET_COLUMN\n",
    "\n",
    "        hypoeropt_config=HyperOptParams(\n",
    "            root_dir=config.root_dir,\n",
    "            train_data_path=config.train_data_path,\n",
    "            test_data_path=config.test_data_path,\n",
    "            model_name=config.model_name,\n",
    "            n_estimators=params.n_estimators,\n",
    "            max_depth=params.max_depth,\n",
    "            min_samples_split=params.min_samples_split,\n",
    "            target_column=schema.name\n",
    "        )\n",
    "        return hypoeropt_config"
   ]
  },
  {
   "cell_type": "code",
   "execution_count": 12,
   "metadata": {},
   "outputs": [],
   "source": [
    "# components\n",
    "from hyperopt import STATUS_OK, hp, fmin, tpe, Trials\n",
    "import dagshub\n",
    "from functools import partial \n",
    "import mlflow\n",
    "import pandas as pd \n",
    "import os \n",
    "from SurgeSense import logger\n",
    "from sklearn.ensemble import RandomForestRegressor, GradientBoostingRegressor\n",
    "from xgboost import XGBRegressor\n",
    "import joblib\n",
    "from sklearn.impute import SimpleImputer\n",
    "from sklearn.pipeline import Pipeline\n",
    "from sklearn.preprocessing import StandardScaler, OneHotEncoder\n",
    "from sklearn.compose import ColumnTransformer\n",
    "import pandas as pd \n",
    "import numpy as np\n",
    "\n",
    "class hyperOptTraining:\n",
    "    def __init__(self,config=HyperOptParams):\n",
    "          self.config=config\n",
    "\n",
    "    def create_pipeline(self):\n",
    "        \n",
    "        categorical_columns=['cab_type','destination','source','name']\n",
    "        numerical_columns=['distance','surge_multiplier','temp','clouds','pressure','rain','humidity','wind','day','hour','month']\n",
    "\n",
    "        numerical_preprocessor=Pipeline(\n",
    "            steps=[\n",
    "                ('imputation_menu',SimpleImputer(missing_values=np.nan,strategy='median')),\n",
    "                ('scalar',StandardScaler())\n",
    "            ]\n",
    "        )\n",
    "\n",
    "        categorical_preprocessor=Pipeline(\n",
    "            steps=[\n",
    "                ('imputation_constant',SimpleImputer(strategy='most_frequent')),\n",
    "                ('encode',OneHotEncoder(handle_unknown='ignore'))\n",
    "            ]\n",
    "        )\n",
    "\n",
    "        preprocessor=ColumnTransformer(\n",
    "            transformers=[\n",
    "                ('categorical_columns',categorical_preprocessor,categorical_columns),\n",
    "                ('numerical_columns',numerical_preprocessor,numerical_columns)\n",
    "            ]\n",
    "        )\n",
    "\n",
    "        \n",
    "        pipe=Pipeline(\n",
    "            steps=[\n",
    "                ('preprocessor',preprocessor),\n",
    "                ('model', RandomForestRegressor())\n",
    "            ]\n",
    "        )\n",
    "        \n",
    "\n",
    "        return pipe\n",
    "\n",
    "    def objective(self,params,xtrain,ytrain,xtest,ytest):\n",
    "        with mlflow.start_run():\n",
    "            mlflow.set_tag('model','RandomForestRegressor')\n",
    "\n",
    "            pipe=self.create_pipeline()\n",
    "            model=pipe.set_params(**params)\n",
    "            model.fit(xtrain,ytrain)\n",
    "            ypred=model.predict(xtest)\n",
    "            mlflow.log_params(model.get_params())\n",
    "            rmse,mae,r2=evaluation_metrics(ytest,ypred)\n",
    "            mlflow.log_metrics({'rmse':rmse,'mse': mae, 'r2':r2})\n",
    "        return {'loss':rmse, 'status':STATUS_OK}\n",
    "\n",
    "    def train(self):\n",
    "        train_data=pd.read_csv(self.config.train_data_path)\n",
    "        test_data=pd.read_csv(self.config.test_data_path)\n",
    "\n",
    "        xtrain=train_data.drop([self.config.target_column],axis=1)\n",
    "        xtest=test_data.drop([self.config.target_column],axis=1)\n",
    "        ytrain=train_data[[self.config.target_column]]\n",
    "        ytest=test_data[[self.config.target_column]]\n",
    "\n",
    "        search_space={\n",
    "            'model__n_estimators':hp.uniformint('n_estimators',self.config.n_estimators[0],self.config.n_estimators[1]),\n",
    "            'model__max_depth':hp.uniformint('max_depth',self.config.max_depth[0],self.config.max_depth[1]),\n",
    "            'model__min_samples_split':hp.uniformint('min_samples_split',self.config.min_samples_split[0],self.config.min_samples_split[1])\n",
    "        }\n",
    "        dagshub.init(repo_owner='Immortal-Pi',repo_name='SurgeSense',mlflow=True)\n",
    "        experiment_name='hyperopt_test_random_forest'\n",
    "        existing_experiment=mlflow.get_experiment_by_name(experiment_name)\n",
    "\n",
    "        if existing_experiment is None:\n",
    "                experiment_id = mlflow.create_experiment(name=experiment_name,artifact_location='hyperopt-test')\n",
    "        else:\n",
    "            experiment_id = existing_experiment.experiment_id\n",
    "        mlflow.set_experiment(experiment_id=experiment_id) \n",
    "\n",
    "        trials=Trials()\n",
    "        best_results=fmin(\n",
    "            fn=partial(\n",
    "                self.objective,\n",
    "                xtrain=xtrain[:5000],\n",
    "                ytrain=ytrain[:5000],\n",
    "                xtest=xtest[:5000],\n",
    "                ytest=ytest[:5000]\n",
    "            ),\n",
    "            space=search_space,\n",
    "            algo=tpe.suggest,\n",
    "            max_evals=10, # change to config\n",
    "            trials=trials\n",
    "        )\n",
    "        return best_results,trials\n",
    "\n",
    "    def register_best_model(self,best_results,trials):\n",
    "        best_index=np.argmin([trial['result']['loss'] for trial in trials.trials])\n",
    "        best_model=trials.trials[best_index]['result']['loss']\n",
    "\n",
    "        with mlflow.start_run() as run:\n",
    "            mlflow.sklearn.log_model(sk_model=best_model,artifact_path='best_model')\n",
    "            mlflow.log_params(trials.trials[best_index]['mics']['vals'])\n",
    "            model_uri=f'runs:{run.info.run_id}/best_model'\n",
    "            mlflow.register_model(model_uri=model_uri,name='best_model')\n",
    "\n",
    "\n"
   ]
  },
  {
   "cell_type": "code",
   "execution_count": 13,
   "metadata": {},
   "outputs": [
    {
     "name": "stdout",
     "output_type": "stream",
     "text": [
      "[2025-03-23 22:17:55,504: INFO :common : yaml file: config\\config.yaml loaded successfully]\n",
      "[2025-03-23 22:17:55,508: INFO :common : yaml file: params.yaml loaded successfully]\n",
      "[2025-03-23 22:17:55,513: INFO :common : yaml file: schema.yaml loaded successfully]\n",
      "[2025-03-23 22:17:58,117: INFO :_client : HTTP Request: GET https://dagshub.com/api/v1/repos/Immortal-Pi/SurgeSense \"HTTP/1.1 200 OK\"]\n"
     ]
    },
    {
     "data": {
      "text/html": [
       "<pre style=\"white-space:pre;overflow-x:auto;line-height:normal;font-family:Menlo,'DejaVu Sans Mono',consolas,'Courier New',monospace\">Initialized MLflow to track repo <span style=\"color: #008000; text-decoration-color: #008000\">\"Immortal-Pi/SurgeSense\"</span>\n",
       "</pre>\n"
      ],
      "text/plain": [
       "Initialized MLflow to track repo \u001b[32m\"Immortal-Pi/SurgeSense\"\u001b[0m\n"
      ]
     },
     "metadata": {},
     "output_type": "display_data"
    },
    {
     "name": "stdout",
     "output_type": "stream",
     "text": [
      "[2025-03-23 22:17:58,122: INFO :helpers : Initialized MLflow to track repo \"Immortal-Pi/SurgeSense\"]\n"
     ]
    },
    {
     "data": {
      "text/html": [
       "<pre style=\"white-space:pre;overflow-x:auto;line-height:normal;font-family:Menlo,'DejaVu Sans Mono',consolas,'Courier New',monospace\">Repository Immortal-Pi/SurgeSense initialized!\n",
       "</pre>\n"
      ],
      "text/plain": [
       "Repository Immortal-Pi/SurgeSense initialized!\n"
      ]
     },
     "metadata": {},
     "output_type": "display_data"
    },
    {
     "name": "stdout",
     "output_type": "stream",
     "text": [
      "[2025-03-23 22:17:58,125: INFO :helpers : Repository Immortal-Pi/SurgeSense initialized!]\n",
      "  0%|          | 0/10 [00:00<?, ?trial/s, best loss=?][2025-03-23 22:17:58,492: INFO :tpe : build_posterior_wrapper took 0.001077 seconds]\n",
      "[2025-03-23 22:17:58,493: INFO :tpe : TPE using 0 trials]\n"
     ]
    },
    {
     "name": "stderr",
     "output_type": "stream",
     "text": [
      "d:\\pythonProjects\\SurgeSense\\venv\\lib\\site-packages\\sklearn\\base.py:1389: DataConversionWarning: A column-vector y was passed when a 1d array was expected. Please change the shape of y to (n_samples,), for example using ravel().\n",
      "  return fit_method(estimator, *args, **kwargs)\n",
      "\n"
     ]
    },
    {
     "name": "stdout",
     "output_type": "stream",
     "text": [
      "🏃 View run redolent-mole-354 at: https://dagshub.com/Immortal-Pi/SurgeSense.mlflow/#/experiments/5/runs/ff83142c7b52438c90e84a75b543c6fe\n",
      "\n",
      "🧪 View experiment at: https://dagshub.com/Immortal-Pi/SurgeSense.mlflow/#/experiments/5\n",
      "\n",
      " 10%|█         | 1/10 [00:10<01:33, 10.39s/trial, best loss: 2.4645627119971594][2025-03-23 22:18:08,880: INFO :tpe : build_posterior_wrapper took 0.001998 seconds]\n",
      "[2025-03-23 22:18:08,882: INFO :tpe : TPE using 1/1 trials with best loss 2.464563]\n"
     ]
    },
    {
     "name": "stderr",
     "output_type": "stream",
     "text": [
      "d:\\pythonProjects\\SurgeSense\\venv\\lib\\site-packages\\sklearn\\base.py:1389: DataConversionWarning: A column-vector y was passed when a 1d array was expected. Please change the shape of y to (n_samples,), for example using ravel().\n",
      "  return fit_method(estimator, *args, **kwargs)\n",
      "\n"
     ]
    },
    {
     "name": "stdout",
     "output_type": "stream",
     "text": [
      "🏃 View run traveling-ray-429 at: https://dagshub.com/Immortal-Pi/SurgeSense.mlflow/#/experiments/5/runs/012a52ac3da94d1691a88cd1554c68a9\n",
      "\n",
      "🧪 View experiment at: https://dagshub.com/Immortal-Pi/SurgeSense.mlflow/#/experiments/5\n",
      "\n",
      " 20%|██        | 2/10 [00:17<01:06,  8.37s/trial, best loss: 2.4645627119971594][2025-03-23 22:18:15,829: INFO :tpe : build_posterior_wrapper took 0.000999 seconds]\n",
      "[2025-03-23 22:18:15,830: INFO :tpe : TPE using 2/2 trials with best loss 2.464563]\n"
     ]
    },
    {
     "name": "stderr",
     "output_type": "stream",
     "text": [
      "d:\\pythonProjects\\SurgeSense\\venv\\lib\\site-packages\\sklearn\\base.py:1389: DataConversionWarning: A column-vector y was passed when a 1d array was expected. Please change the shape of y to (n_samples,), for example using ravel().\n",
      "  return fit_method(estimator, *args, **kwargs)\n",
      "\n"
     ]
    },
    {
     "name": "stdout",
     "output_type": "stream",
     "text": [
      "🏃 View run learned-tern-299 at: https://dagshub.com/Immortal-Pi/SurgeSense.mlflow/#/experiments/5/runs/df073c9656214a76af876521b6e475f5\n",
      "\n",
      "🧪 View experiment at: https://dagshub.com/Immortal-Pi/SurgeSense.mlflow/#/experiments/5\n",
      "\n",
      " 30%|███       | 3/10 [00:31<01:17, 11.03s/trial, best loss: 2.1272060699458435][2025-03-23 22:18:30,038: INFO :tpe : build_posterior_wrapper took 0.001003 seconds]\n",
      "[2025-03-23 22:18:30,039: INFO :tpe : TPE using 3/3 trials with best loss 2.127206]\n"
     ]
    },
    {
     "name": "stderr",
     "output_type": "stream",
     "text": [
      "d:\\pythonProjects\\SurgeSense\\venv\\lib\\site-packages\\sklearn\\base.py:1389: DataConversionWarning: A column-vector y was passed when a 1d array was expected. Please change the shape of y to (n_samples,), for example using ravel().\n",
      "  return fit_method(estimator, *args, **kwargs)\n",
      "\n"
     ]
    },
    {
     "name": "stdout",
     "output_type": "stream",
     "text": [
      "🏃 View run tasteful-quail-116 at: https://dagshub.com/Immortal-Pi/SurgeSense.mlflow/#/experiments/5/runs/69c5469a06234fea8e8e1a702f99e91b\n",
      "\n",
      "🧪 View experiment at: https://dagshub.com/Immortal-Pi/SurgeSense.mlflow/#/experiments/5\n",
      "\n",
      " 40%|████      | 4/10 [00:39<00:59,  9.84s/trial, best loss: 2.1272060699458435][2025-03-23 22:18:38,046: INFO :tpe : build_posterior_wrapper took 0.001007 seconds]\n",
      "[2025-03-23 22:18:38,047: INFO :tpe : TPE using 4/4 trials with best loss 2.127206]\n"
     ]
    },
    {
     "name": "stderr",
     "output_type": "stream",
     "text": [
      "d:\\pythonProjects\\SurgeSense\\venv\\lib\\site-packages\\sklearn\\base.py:1389: DataConversionWarning: A column-vector y was passed when a 1d array was expected. Please change the shape of y to (n_samples,), for example using ravel().\n",
      "  return fit_method(estimator, *args, **kwargs)\n",
      "\n"
     ]
    },
    {
     "name": "stdout",
     "output_type": "stream",
     "text": [
      "🏃 View run salty-zebra-403 at: https://dagshub.com/Immortal-Pi/SurgeSense.mlflow/#/experiments/5/runs/d08e5e9d28cf45a4a29ee9578b0bce00\n",
      "\n",
      "🧪 View experiment at: https://dagshub.com/Immortal-Pi/SurgeSense.mlflow/#/experiments/5\n",
      "\n",
      " 50%|█████     | 5/10 [00:43<00:37,  7.60s/trial, best loss: 2.1272060699458435][2025-03-23 22:18:41,663: INFO :tpe : build_posterior_wrapper took 0.000999 seconds]\n",
      "[2025-03-23 22:18:41,664: INFO :tpe : TPE using 5/5 trials with best loss 2.127206]\n"
     ]
    },
    {
     "name": "stderr",
     "output_type": "stream",
     "text": [
      "d:\\pythonProjects\\SurgeSense\\venv\\lib\\site-packages\\sklearn\\base.py:1389: DataConversionWarning: A column-vector y was passed when a 1d array was expected. Please change the shape of y to (n_samples,), for example using ravel().\n",
      "  return fit_method(estimator, *args, **kwargs)\n",
      "\n"
     ]
    },
    {
     "name": "stdout",
     "output_type": "stream",
     "text": [
      "🏃 View run languid-colt-365 at: https://dagshub.com/Immortal-Pi/SurgeSense.mlflow/#/experiments/5/runs/69d7633d84a547e3af9a26e5d4e254da\n",
      "\n",
      "🧪 View experiment at: https://dagshub.com/Immortal-Pi/SurgeSense.mlflow/#/experiments/5\n",
      "\n",
      " 60%|██████    | 6/10 [00:52<00:32,  8.14s/trial, best loss: 2.1272060699458435][2025-03-23 22:18:50,875: INFO :tpe : build_posterior_wrapper took 0.001227 seconds]\n",
      "[2025-03-23 22:18:50,876: INFO :tpe : TPE using 6/6 trials with best loss 2.127206]\n"
     ]
    },
    {
     "name": "stderr",
     "output_type": "stream",
     "text": [
      "d:\\pythonProjects\\SurgeSense\\venv\\lib\\site-packages\\sklearn\\base.py:1389: DataConversionWarning: A column-vector y was passed when a 1d array was expected. Please change the shape of y to (n_samples,), for example using ravel().\n",
      "  return fit_method(estimator, *args, **kwargs)\n",
      "\n"
     ]
    },
    {
     "name": "stdout",
     "output_type": "stream",
     "text": [
      "🏃 View run marvelous-fish-701 at: https://dagshub.com/Immortal-Pi/SurgeSense.mlflow/#/experiments/5/runs/7ee8da3b42c44917a2da71098c0c31b0\n",
      "\n",
      "🧪 View experiment at: https://dagshub.com/Immortal-Pi/SurgeSense.mlflow/#/experiments/5\n",
      "\n",
      " 70%|███████   | 7/10 [00:59<00:23,  7.68s/trial, best loss: 2.1272060699458435][2025-03-23 22:18:57,587: INFO :tpe : build_posterior_wrapper took 0.000906 seconds]\n",
      "[2025-03-23 22:18:57,587: INFO :tpe : TPE using 7/7 trials with best loss 2.127206]\n"
     ]
    },
    {
     "name": "stderr",
     "output_type": "stream",
     "text": [
      "d:\\pythonProjects\\SurgeSense\\venv\\lib\\site-packages\\sklearn\\base.py:1389: DataConversionWarning: A column-vector y was passed when a 1d array was expected. Please change the shape of y to (n_samples,), for example using ravel().\n",
      "  return fit_method(estimator, *args, **kwargs)\n",
      "\n"
     ]
    },
    {
     "name": "stdout",
     "output_type": "stream",
     "text": [
      "🏃 View run overjoyed-fish-903 at: https://dagshub.com/Immortal-Pi/SurgeSense.mlflow/#/experiments/5/runs/08a31fa7491b4cbcac084553e36a5d9d\n",
      "\n",
      "🧪 View experiment at: https://dagshub.com/Immortal-Pi/SurgeSense.mlflow/#/experiments/5\n",
      "\n",
      " 80%|████████  | 8/10 [01:06<00:15,  7.52s/trial, best loss: 2.1272060699458435][2025-03-23 22:19:04,764: INFO :tpe : build_posterior_wrapper took 0.000000 seconds]\n",
      "[2025-03-23 22:19:04,765: INFO :tpe : TPE using 8/8 trials with best loss 2.127206]\n"
     ]
    },
    {
     "name": "stderr",
     "output_type": "stream",
     "text": [
      "d:\\pythonProjects\\SurgeSense\\venv\\lib\\site-packages\\sklearn\\base.py:1389: DataConversionWarning: A column-vector y was passed when a 1d array was expected. Please change the shape of y to (n_samples,), for example using ravel().\n",
      "  return fit_method(estimator, *args, **kwargs)\n",
      "\n"
     ]
    },
    {
     "name": "stdout",
     "output_type": "stream",
     "text": [
      "🏃 View run amazing-penguin-340 at: https://dagshub.com/Immortal-Pi/SurgeSense.mlflow/#/experiments/5/runs/e767edea042748d8aebd7d36e33ac8be\n",
      "\n",
      "🧪 View experiment at: https://dagshub.com/Immortal-Pi/SurgeSense.mlflow/#/experiments/5\n",
      "\n",
      " 90%|█████████ | 9/10 [01:10<00:06,  6.61s/trial, best loss: 2.1272060699458435][2025-03-23 22:19:09,388: INFO :tpe : build_posterior_wrapper took 0.000000 seconds]\n",
      "[2025-03-23 22:19:09,390: INFO :tpe : TPE using 9/9 trials with best loss 2.127206]\n"
     ]
    },
    {
     "name": "stderr",
     "output_type": "stream",
     "text": [
      "d:\\pythonProjects\\SurgeSense\\venv\\lib\\site-packages\\sklearn\\base.py:1389: DataConversionWarning: A column-vector y was passed when a 1d array was expected. Please change the shape of y to (n_samples,), for example using ravel().\n",
      "  return fit_method(estimator, *args, **kwargs)\n",
      "\n"
     ]
    },
    {
     "name": "stdout",
     "output_type": "stream",
     "text": [
      "🏃 View run fun-robin-730 at: https://dagshub.com/Immortal-Pi/SurgeSense.mlflow/#/experiments/5/runs/52b9482854d844d3a3fb49441672d3e0\n",
      "\n",
      "🧪 View experiment at: https://dagshub.com/Immortal-Pi/SurgeSense.mlflow/#/experiments/5\n",
      "\n",
      "100%|██████████| 10/10 [01:14<00:00,  7.50s/trial, best loss: 2.1272060699458435]\n"
     ]
    }
   ],
   "source": [
    "# pipeline \n",
    "try: \n",
    "    config=HyperOptParamsConfigManager()\n",
    "    hyperopt_config=config.get_hyperopt_config()\n",
    "    hyperopt_config_training=hyperOptTraining(config=hyperopt_config)\n",
    "    best_results,trails=hyperopt_config_training.train()\n",
    "    #hyperopt_config_training.register_best_model(best_results,trails)\n",
    "except Exception as e:\n",
    "    raise e "
   ]
  },
  {
   "cell_type": "code",
   "execution_count": null,
   "metadata": {},
   "outputs": [],
   "source": [
    "data=read_yaml(PARAMS_FILE_PATH)\n",
    "data.Hyperopt_params.XGBoostRegressor.n_estimators[0]"
   ]
  },
  {
   "cell_type": "code",
   "execution_count": null,
   "metadata": {},
   "outputs": [],
   "source": [
    "hyperopt_config_training.register_best_model(best_results,trails)"
   ]
  },
  {
   "cell_type": "code",
   "execution_count": null,
   "metadata": {},
   "outputs": [],
   "source": []
  }
 ],
 "metadata": {
  "kernelspec": {
   "display_name": "Python 3",
   "language": "python",
   "name": "python3"
  },
  "language_info": {
   "codemirror_mode": {
    "name": "ipython",
    "version": 3
   },
   "file_extension": ".py",
   "mimetype": "text/x-python",
   "name": "python",
   "nbconvert_exporter": "python",
   "pygments_lexer": "ipython3",
   "version": "3.10.0"
  }
 },
 "nbformat": 4,
 "nbformat_minor": 2
}

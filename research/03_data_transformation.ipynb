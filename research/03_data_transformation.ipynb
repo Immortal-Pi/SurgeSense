{
 "cells": [
  {
   "cell_type": "code",
   "execution_count": 2,
   "metadata": {},
   "outputs": [
    {
     "data": {
      "text/plain": [
       "'d:\\\\pythonProjects\\\\SurgeSense'"
      ]
     },
     "execution_count": 2,
     "metadata": {},
     "output_type": "execute_result"
    }
   ],
   "source": [
    "import os \n",
    "os.chdir('../')\n",
    "%pwd"
   ]
  },
  {
   "cell_type": "markdown",
   "metadata": {},
   "source": [
    "# data transformation steps "
   ]
  },
  {
   "cell_type": "code",
   "execution_count": 3,
   "metadata": {},
   "outputs": [],
   "source": [
    "# entity\n",
    "from dataclasses import dataclass\n",
    "from pathlib import Path \n",
    "@dataclass\n",
    "class DataTransformationConfig:\n",
    "    root_dir: Path \n",
    "    data_path: Path\n",
    "    categorical_columns: list\n",
    "    numerical_columns: list \n",
    "\n"
   ]
  },
  {
   "cell_type": "code",
   "execution_count": 4,
   "metadata": {},
   "outputs": [],
   "source": [
    "# config \n",
    "from SurgeSense.constants import * \n",
    "from SurgeSense.utils.common import read_yaml, create_directories\n",
    "\n",
    "\n",
    "class ConfigurationManager:\n",
    "    def __init__(self,\n",
    "                 config_filepath=CONFIG_FILE_PATH,\n",
    "                 schema_filepath=SCHEMA_FILE_PATH):\n",
    "        self.config=read_yaml(config_filepath)\n",
    "        self.schema=read_yaml(schema_filepath)\n",
    "\n",
    "        create_directories([self.config.artifacts_root])\n",
    "\n",
    "    def get_data_transformation_config(self)->DataTransformationConfig:\n",
    "        config=self.config.data_transformation \n",
    "        schema=self.schema.TRANSFORM\n",
    "        create_directories([config.root_dir])\n",
    "\n",
    "        data_transformation_config=DataTransformationConfig(\n",
    "            root_dir=config.root_dir,\n",
    "            data_path=config.data_path,\n",
    "            categorical_columns=schema.CATEGORICAL_DATA,\n",
    "            numerical_columns=schema.NUMERICAL_DATA\n",
    "        )\n",
    "        return data_transformation_config"
   ]
  },
  {
   "cell_type": "code",
   "execution_count": 9,
   "metadata": {},
   "outputs": [],
   "source": [
    "# components\n",
    "import os \n",
    "from SurgeSense import logger\n",
    "from sklearn.model_selection import train_test_split\n",
    "import pandas as pd \n",
    "from sklearn.ensemble import RandomForestRegressor\n",
    "import os \n",
    "import numpy as np\n",
    "import pandas as pd\n",
    "from sklearn.pipeline import make_pipeline, Pipeline\n",
    "from sklearn.impute import SimpleImputer\n",
    "from sklearn.compose import ColumnTransformer \n",
    "from sklearn.preprocessing import OneHotEncoder, StandardScaler \n",
    "from sklearn.ensemble import RandomForestClassifier\n",
    "from sklearn.model_selection import GridSearchCV, train_test_split \n",
    "\n",
    "\n",
    "class DataTransformation: \n",
    "    def __init__(self,config:DataTransformationConfig):\n",
    "        self.config=config\n",
    "\n",
    "\n",
    "    def transform_data_pipeline(self):\n",
    "        data=pd.read_csv(self.config.data_path)\n",
    "        categorical_columns=self.config.categorical_columns\n",
    "        numerical_columns=self.config.numerical_columns\n",
    "        numerical_preprocessor=Pipeline(\n",
    "            steps=[\n",
    "                ('imputation_menu',SimpleImputer(missing_values=np.nan,strategy='median')),\n",
    "                ('scalar',StandardScaler())\n",
    "            ]\n",
    "        )\n",
    "\n",
    "        categorical_preprocessor=Pipeline(\n",
    "            steps=[\n",
    "                ('imputation_constant',SimpleImputer(strategy='most_frequent')),\n",
    "                ('encode',OneHotEncoder(handle_unknown='ignore'))\n",
    "            ]\n",
    "        )\n",
    "\n",
    "        preprocessor=ColumnTransformer(\n",
    "            transformers=[\n",
    "                ('categorical_columns',categorical_preprocessor,categorical_columns),\n",
    "                ('numerical_columns',numerical_preprocessor,numerical_columns)\n",
    "            ]\n",
    "        )\n",
    "\n",
    "        pipe=Pipeline(\n",
    "            steps=[\n",
    "                ('preprocessor',preprocessor)\n",
    "            ]\n",
    "        )\n",
    "        return pipe \n",
    "    \n",
    "    def train_test_spliting(self,pipe: Pipeline):\n",
    "        data=pd.read_csv(self.config.data_path)\n",
    "        data_transformed=pipe.fit_transform(data)\n",
    "        logger.info('Transforming the data')\n",
    "        train,test=train_test_split(pd.DataFrame(data_transformed))\n",
    "        train.to_csv(os.path.join(self.config.root_dir,'train.csv'),index=False)\n",
    "        test.to_csv(os.path.join(self.config.root_dir,'test.csv'),index=False)\n",
    "        logger.info('splitting the data into train and test set')\n",
    "        logger.info(f'training set shape: {train.shape}')\n",
    "        logger.info(f'testing set shape: {test.shape}')\n",
    "        "
   ]
  },
  {
   "cell_type": "code",
   "execution_count": 10,
   "metadata": {},
   "outputs": [
    {
     "name": "stdout",
     "output_type": "stream",
     "text": [
      "[2025-03-21 19:56:45,337: INFO :common : yaml file: config\\config.yaml loaded successfully]\n",
      "[2025-03-21 19:56:45,342: INFO :common : yaml file: schema.yaml loaded successfully]\n",
      "[2025-03-21 19:56:45,343: INFO :common : created directory at: artifacts]\n",
      "[2025-03-21 19:56:45,344: INFO :common : created directory at: artifacts/data_transformation]\n",
      "[2025-03-21 19:56:53,410: INFO :3914814864 : Transforming the data]\n",
      "[2025-03-21 19:57:31,032: INFO :3914814864 : splitting the data into train and test set]\n",
      "[2025-03-21 19:57:31,033: INFO :3914814864 : training set shape: (873747, 49)]\n",
      "[2025-03-21 19:57:31,034: INFO :3914814864 : testing set shape: (291249, 49)]\n"
     ]
    }
   ],
   "source": [
    "# pipeline \n",
    "try: \n",
    "    config=ConfigurationManager()\n",
    "    data_transformation_config=config.get_data_transformation_config()\n",
    "    data_transform=DataTransformation(config=data_transformation_config)\n",
    "    pipeline=data_transform.transform_data_pipeline()\n",
    "    data_transform.train_test_spliting(pipeline)\n",
    "except Exception as e:\n",
    "    raise e "
   ]
  },
  {
   "cell_type": "code",
   "execution_count": null,
   "metadata": {},
   "outputs": [],
   "source": []
  },
  {
   "cell_type": "code",
   "execution_count": null,
   "metadata": {},
   "outputs": [],
   "source": []
  }
 ],
 "metadata": {
  "kernelspec": {
   "display_name": "Python 3",
   "language": "python",
   "name": "python3"
  },
  "language_info": {
   "codemirror_mode": {
    "name": "ipython",
    "version": 3
   },
   "file_extension": ".py",
   "mimetype": "text/x-python",
   "name": "python",
   "nbconvert_exporter": "python",
   "pygments_lexer": "ipython3",
   "version": "3.10.0"
  }
 },
 "nbformat": 4,
 "nbformat_minor": 2
}
